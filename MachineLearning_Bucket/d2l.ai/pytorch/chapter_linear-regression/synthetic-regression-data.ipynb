{
 "cells": [
  {
   "cell_type": "markdown",
   "id": "d13df7ea",
   "metadata": {
    "origin_pos": 1
   },
   "source": [
    "# Synthetic Regression Data\n",
    ":label:`sec_synthetic-regression-data`\n",
    "\n",
    "\n",
    "Machine learning is all about extracting information from data.\n",
    "So you might wonder, what could we possibly learn from synthetic data?\n",
    "While we might not care intrinsically about the patterns \n",
    "that we ourselves baked into an artificial data generating model,\n",
    "such datasets are nevertheless useful for didactic purposes,\n",
    "helping us to evaluate the properties of our learning \n",
    "algorithms and to confirm that our implementations work as expected.\n",
    "For example, if we create data for which the correct parameters are known *a priori*,\n",
    "then we can check that our model can in fact recover them.\n"
   ]
  },
  {
   "cell_type": "code",
   "execution_count": 1,
   "id": "b9773b7e",
   "metadata": {
    "execution": {
     "iopub.execute_input": "2023-08-18T19:36:11.561594Z",
     "iopub.status.busy": "2023-08-18T19:36:11.560983Z",
     "iopub.status.idle": "2023-08-18T19:36:15.344149Z",
     "shell.execute_reply": "2023-08-18T19:36:15.342706Z"
    },
    "origin_pos": 3,
    "tab": [
     "pytorch"
    ]
   },
   "outputs": [],
   "source": [
    "%matplotlib inline\n",
    "import random\n",
    "import torch\n",
    "from d2l import torch as d2l"
   ]
  },
  {
   "cell_type": "markdown",
   "id": "4b65a3a2",
   "metadata": {
    "origin_pos": 6
   },
   "source": [
    "## Generating the Dataset\n",
    "\n",
    "For this example, we will work in low dimension\n",
    "for succinctness.\n",
    "The following code snippet generates 1000 examples\n",
    "with 2-dimensional features drawn \n",
    "from a standard normal distribution.\n",
    "The resulting design matrix $\\mathbf{X}$\n",
    "belongs to $\\mathbb{R}^{1000 \\times 2}$. \n",
    "We generate each label by applying \n",
    "a *ground truth* linear function, \n",
    "corrupting them via additive noise $\\boldsymbol{\\epsilon}$, \n",
    "drawn independently and identically for each example:\n",
    "\n",
    "(**$$\\mathbf{y}= \\mathbf{X} \\mathbf{w} + b + \\boldsymbol{\\epsilon}.$$**)\n",
    "\n",
    "For convenience we assume that $\\boldsymbol{\\epsilon}$ is drawn \n",
    "from a normal distribution with mean $\\mu= 0$ \n",
    "and standard deviation $\\sigma = 0.01$.\n",
    "Note that for object-oriented design\n",
    "we add the code to the `__init__` method of a subclass of `d2l.DataModule` (introduced in :numref:`oo-design-data`). \n",
    "It is good practice to allow the setting of any additional hyperparameters. \n",
    "We accomplish this with `save_hyperparameters()`. \n",
    "The `batch_size` will be determined later.\n"
   ]
  },
  {
   "cell_type": "code",
   "execution_count": 2,
   "id": "e174e8b1",
   "metadata": {
    "execution": {
     "iopub.execute_input": "2023-08-18T19:36:15.351059Z",
     "iopub.status.busy": "2023-08-18T19:36:15.350010Z",
     "iopub.status.idle": "2023-08-18T19:36:15.358156Z",
     "shell.execute_reply": "2023-08-18T19:36:15.357035Z"
    },
    "origin_pos": 7,
    "tab": [
     "pytorch"
    ]
   },
   "outputs": [],
   "source": [
    "class SyntheticRegressionData(d2l.DataModule):  #@save\n",
    "    \"\"\"Synthetic data for linear regression.\"\"\"\n",
    "    def __init__(self, w, b, noise=0.01, num_train=1000, num_val=1000,\n",
    "                 batch_size=32):\n",
    "        super().__init__()\n",
    "        self.save_hyperparameters()\n",
    "        n = num_train + num_val\n",
    "        self.X = torch.randn(n, len(w))\n",
    "        noise = torch.randn(n, 1) * noise\n",
    "        self.y = torch.matmul(self.X, w.reshape((-1, 1))) + b + noise"
   ]
  },
  {
   "cell_type": "markdown",
   "id": "60afd383",
   "metadata": {
    "origin_pos": 8
   },
   "source": [
    "Below, we set the true parameters to $\\mathbf{w} = [2, -3.4]^\\top$ and $b = 4.2$.\n",
    "Later, we can check our estimated parameters against these *ground truth* values.\n"
   ]
  },
  {
   "cell_type": "code",
   "execution_count": 34,
   "id": "38a83404",
   "metadata": {
    "execution": {
     "iopub.execute_input": "2023-08-18T19:36:15.362285Z",
     "iopub.status.busy": "2023-08-18T19:36:15.361503Z",
     "iopub.status.idle": "2023-08-18T19:36:15.390526Z",
     "shell.execute_reply": "2023-08-18T19:36:15.389339Z"
    },
    "origin_pos": 9,
    "tab": [
     "pytorch"
    ]
   },
   "outputs": [
    {
     "data": {
      "text/plain": [
       "(tensor([[ 0.2300, -0.7697],\n",
       "         [ 1.1627,  1.0992],\n",
       "         [ 0.1994, -0.6069],\n",
       "         ...,\n",
       "         [-0.0294,  1.3049],\n",
       "         [ 0.9877,  0.7383],\n",
       "         [-0.3533, -0.4850]]),\n",
       " tensor([[ 7.2732],\n",
       "         [ 2.7870],\n",
       "         [ 6.6708],\n",
       "         ...,\n",
       "         [-0.2941],\n",
       "         [ 3.6747],\n",
       "         [ 5.1402]]))"
      ]
     },
     "execution_count": 34,
     "metadata": {},
     "output_type": "execute_result"
    }
   ],
   "source": [
    "data = SyntheticRegressionData(w=torch.tensor([2, -3.4]), b=4.2)\n",
    "data.X, data.y"
   ]
  },
  {
   "cell_type": "code",
   "execution_count": 53,
   "id": "d9763cc9",
   "metadata": {},
   "outputs": [
    {
     "data": {
      "application/vnd.plotly.v1+json": {
       "config": {
        "plotlyServerURL": "https://plot.ly"
       },
       "data": [
        {
         "hovertemplate": "x=%{x}<br>y=%{y}<br>z=%{z}<br>color=%{marker.color}<extra></extra>",
         "legendgroup": "",
         "marker": {
          "color": {
           "bdata": "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",
           "dtype": "f4"
          },
          "coloraxis": "coloraxis",
          "symbol": "circle"
         },
         "mode": "markers",
         "name": "",
         "scene": "scene",
         "showlegend": false,
         "type": "scatter3d",
         "x": {
          "bdata": "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",
          "dtype": "f4"
         },
         "y": {
          "bdata": "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",
          "dtype": "f4"
         },
         "z": {
          "bdata": "zL3oQNRdMkA6d9VA/GQtQAuzkEAy/Us+hlkqQTgjV0EdYYxAqvjwP4uWcECS6oNAYvUiQZoPsEAao/hA9W2QQIJovUCrato/Kt3jQByJgEAUL6NAzwpQQJFfSUDG/kFANuwbQNcDGkEA6dZA/d2YQCSVBECnZHi/QImMQGn9iUCy2DZBnGnhQDVeEMCGGQq/ujOKwPoeoL6+32rA2SZrPzG26UBBmQdAN8cXQOKgjb/Qz5pANu1zPy4iPMBsyUtA2cLwP7wskD/e9axAcB1rQOLXnUCcmMRA9I4aQSnBnT9IP9ZA/MCYP4V2mkCBouA/C5d6wINSF0E6dMQ/bOUhP1C+5EAorwpBcrsIQXTxqz+4bb9AFSikPy4wbEB96hNBqo4TQY88PUCtsr8/j5PDQNkDg0CrjhQ+psuuQGFlCUBj0tm+bRPBQKqrQUG/Imu/tEkYQaPWgz96/4NAgMWZQNL1LEDvqeJAv8EQQRWW8b92BsZAjkjSQC7lOEHyA55AW/GjwMROlUBsz7NA95aqP3T25EAPXi9A1CY1QGnt7UB4K6tAN0eeP5gdtj5dIvC/K6PdQIb/LUCNYQdA5k+sQBPeCEC7w4lAfPgNQaMA4ECzFX3AfH11QC+dAEEV9km/ynGXPzUNwkB/zHk/xsZVQFgw7ED1uqBA7lTnQA3aKT6M24K/xYPlQLZ3p0DTqk8/KUsEQUO2BkCrg6jANXz1QGVUE0G6CgpBAH5NQPIw+T/Lh6pAX0V+v7IEI0D2REg/UIBJQUUeJEFy4hlBSHDeP0LMwEDztQPAxcDvQJgIykA5QgBB4Y2tP7UbckB/SXtAf0yJQMe82kDw4vtAjK1pP1/o+T8XyJS+KUWfQPf7H0D+ciI/2gfhv5La1L8eaxZBdyelQD8u1EBqxe4/Keq5QJSlxkBzXutAJg1VQEKv8UAu0RJBoRvXQMaZSz+L16pARJ4qQOPjk0DfGCq+ln7IQPe5OsBTfoO/md5Mv1SVhUAU6AZBgQNHQBDs30BzM7FADSQfQeLJmkDFgmRAtZsaQX9IDUBy+DtAhfu0QLb56EA5Ip9AmkU/Qe9T/0BQ+MhA1YZKQLe5JUA9ya1AfCw9QLtQAEHnHBZB99lePxDxO0EYnQlAnQMwQSfNS74IEm9Bx/NNQFBwR0EaHh+9cV7dQB15PkCO2IRAiQNbwLJKs0D9LNdAYPO5QCC1jb6xfbpA9QQ4QfGNdD+wNQFByQrRPXF+VUBzFLy8rJjoPheitECnaDFBD8sHQWSqZkAWE5NAfgvBQCCiNUDTAClBqRzzQCqBHj4TOV1AVUu5PcaP1kBj1KK/WuPnQBzSR0C97LxADAqMv63WD0EkUCFA+CDNQB/EzECUirLAMoAvQPcPDb/ajexAV2C7vxIfoEDjbJBANuysQBgqMkCcpwpB8ZXxQNvVhUBIrsRA4Ll7PhluPkGKiLFAIGAOQTadC0Au5UdAsoc7QbH260BUZrtAejpYv6dsSEHzjxlBzjsgQBqlbD+jtFpAkJ3cPzkvy0DVdyZAJh3pQKFCzz/UXo4/bgw5QKHIzECvI1RBLExaQK+PEkDdCDJBVuxSvxGptkC008hAUCEGwFpdSkDrHaFAaDKxPx3KtT9b+Ne+v6UmQL0TJUAwOnxAVcMYQQSplMDqGzO/JuB0QCljzj8bDlRA74jeP10nFUEpd4fAWfGjQO0SnkAWtNFAYTfQPwjc90DKIQk/L42qPaeDHEGLG/pAMibzP5U/oMBcowlA8dVfwH/RoUBplpVAq5kXQZfthUAUCmhAf+FAQDk3HkBEqpBAs0uZvyaXML/OmbRASnIwQfDNBUH0eQZAJqTNP+ahsUCvosxA0RTLvwBovD9Bzh9ACLKxQB9qFEFM3UVBxDdJQBE61cAN3ro/miq3P9BC9EBhPplA1HGMvyHgj0BGGAJBW1UhQB25D0H6I6Y/OoEUvqrdnz9WottAPU8jQSGZmECp/ME/GTsRQQ/dyMAB0N1AO3TcQGrnJUEjbJhAhYoVPuyZFUC5pBVBjmAqwAVqPUF/br9AVmI0QD9Ptr/rvOLAfHHQQNjyWkAXgnBAcRlnQYswN8Cfjvg/AtcqQS4Z/ECEF0xBDJLGQIv98ECQeDo/IXeCQCNa2EB02hVBlNqgQCvhrkBZ9UNAQTukQOIvH0FAWclAmk2pQL/nIUGOmBBBhBLVQLLjAEEwCxZBD9+mQPo390C76ZpAPuQRQURaH8D2baZAGOgBQdv1c0A/CGM+985EwHAMRj7y9aRAJTgLQCG0JkCaA/VAExuQQCVONUBt/cw/bZ2WQHUW6D8TkY4/iT/HP4f9XECEEv5APZC6QBxpp0BkzUVB5/avQB+dokAHxqBA6HvrQK7DykBJ3K0+qwE5QKqmIz+s8lNAYIcLv50rOEFix8hAavLuQHnxAkFGUo5AGy/1PxPqgEATnkNBXzTVP3awRECZnWlAa0VHQPGD9EAGuiBAAds3QIn4m76Z0D0/Fd8cQH9NQEFMahJAUuQnPoTeqkBpa2VAPtOgQBqPesA3eMdArz0LQFDG30C0lCi/j/S2QAii1kCPTCRAYKejQMXMoEChgey/uiSoQDPmDkGjFK7A637NPmndnz+ZHbVA8egbQY9+jkA/iHlA9t4OQHKcCEGQE2o/n1FsQAbvCkBZO/S/+gHhQHwEXUBzaipAtYoav/qokkDLGu6+1i+cQM7FPEH7DcVA11XPQGpRuEAmmVVAxm7PQNB4EMBIimhAEkmgPvWPO79u1N9Ak/8TQFGcwT8+ULK/7/zaQPc67kDqivhADrTfQAbSrLyrcpG/Elb2QFdrQ0GLsz4/kKTtQO6Ls0BvnRxBCaeNQNn7BMCJNthAWUxBvxUTNEE3o78/ERqXPo9XGEEZhWFAdx31QPBTUT/GJB1AbHcgQTwoAUEgG05AqBPGQBobor8tex9BJrRhQHEFAUETuJFATVn6QF7etz+2KlRA7oSrQGvTcMDP3i5ATVqvQPa5y0CEKvzA64OoQJ4xP0BsKsNAfibRP3Oov0DM7SVB938FwHyIMkFs6OFAW1oDQe1IgEChwJ1AXmZKQTr6rECUWDrAinTiQLxFNEBIPDdBk2oeQMaPhsC9N9tAp6ZyQAoAtz7yDipA/TznQE1Wj0CRdwtBzXadQPcHuEDjlgZBViAMQFofjz/Rfw9BJqHevdMXi0Bjpj5AgKf7vxXmDkAtchhBuo44QFtHKkEW8M1AFsmBQHnb8kDBRalA9N5iQAag4z8JILpA3u1UQVE+AEHyd0xAYauIQLdo6j+4xPhAs+k2QTkgBUBAAQ7AXXPRQDe59kDxxy3AOS4bwFa8CkFt8fBAqU9LwNjqiEAZ6iRBWe8aQG2urUAanA1Bg0ZNQEmyWEBIYPs/6kU3QM8ghUBHmeJAjS0BQfDxukD0SVZA7w9cPx9Zy0AdLy1ANH5VQPQop774PJVBt6iJP8uGjL+gIgFBPOtNQHFYgEDvqNNAryLZQNOLEEHs3vxANmkBQX1eVcD3Uu5A3ycJQKlfA0HdJATA9VhWQHiRJkAoHehAzkkoQKH46b+4vwVATnamQBT/DEGcQfFA5a05QMRkoUArot5A3xxWQDT5Xj/nC5JAVQdxvju8GkAGH4ZAIv1WQdEOt7+PcipBsPU5v0bw9z+1vJNA+qhYQE9+yEBLFVRBYUEtQJ50Wj4yphNAE0uoQBldOsDk8yNAOGj9QEX33ED2qhtB/B4JQZFXkEBrP3JA3pp5P9Fc8EClSTBASw4MQP6caEDcS+8/RQMSQSWbWr8i/d5AWrgZQRtVG0Gy7JBA2uG8P4kXij+jL4k//hgVvnTFJEC5WB5AI6BOP/jw+kAjJbK/8mh6vzAWu0BpBIRAlIwMQXrRPUB4uOxAmJDFQGJZq7xUp/1AdtWxQHsNDkAc3xHAv9c1QMRmEEEHH+JAZPr3QPi2s0ABDEFBS3fvQLeFkEHGecFAPqCxQPuq8b2IGbs+mdHkQHaGXUB5gxZBIAvFQEq6uUDNL9s/00uoQHb4xEAfHVS/KvTQQLGjlkBOhJdAB5ZVQW2Y5T8RSBk/QKNmQERuV0DzTtm/2iUsQMPbgT/4Og9BHlPgQOgkOkAVT8xA81mlv7z12j8IRHBBtG4kv6R/JEG9qixA2JH0P7XmhD9NdqVAIzgDQVOZwEBG3b0/cVaOQGe5B0HHzcdAniuAQBHBx0AsRhQ/o93SQE9Lo0DEQeI/z9PiQK1ecUDnoehADaP6vynL40Cyf7RAUGdnP1nHn0AbqoZAX73OQDduwkCwsO5AiD8WQBgDJ0EXcJU/m6YsQRB5rkB/BDJABBEtQSzVwED0CwdAdb0Bvj7mpz/HQYG/47vqQEmaCkH1EeC+vvPEQJw6G0E6jL8/VCEnQFiqh0BGcCZAJSstP4Fah0AJOzxA/GM5QPZOL0C45A4/B1Q+QLjOXEHEtzI+k6WUQJEP1UBMQUO/ERoRQZqH20CQ7pu/Pw6UQP9Rkj7/8UlBcm8oQSMTxECEOao/6o2PwIN0JUHRDCZBiLifQCSEIEHxdRm/to2xv6w5PUFfN+dAENCNQIyKh0D+wdtAqmK3QCZ8SEDLyy1A4688PytZZ0D61+xAkc1WQeZgqEAkmBxAZY4UQQ/e8UDaVppA23X7QHqGYEGICQtAuEPPQMSZYEBQwjlBQp8gQTaSDUEcbatAyJc7QPa1KUFg8+ZAhmTNP1JQ10B2XpNAJTEZQXlCcEABeTBADI/6P6jPNL43i8u/j0WPQFZPmUDceyNAlsyAQJTdHT5lPVVAomYoQKaqi0AL3oRALG+TQHSU3T8/Ru9AZuxfwHv3ukD29zfAlkt8v13ZlUAigPRA1g2SPzeSy0Adf9s//GfyvwAlWkFZ9e4/NryQPybqAkFpgXS//TiuP7dm6UCms2hAZSqQQCSU8EAXcWBAa06iPxgfkEBO9mS/zg0aQL4ts0BJJl8/llCSQIQ1BkHRoPlAX/48QMlh7ECJdpVAm7QoQIc+pED2aQNBHIpDQDiwn8DLAYJA14QCQYQSsT8lD+JAGXYHQZNMtUD9NnRAuBvqQHCf8r0FxUW/iZCXQI4Yob/XlmM+menqQAYIA0Gx4dI+oonSQAWogUAxiNs/DNJ2vrwk1D7n3Y9A8rMAQcUetUCHrUNADVPTv/xHmUB7/QlB81oWQf8ZBkF8fXZAXBR7QEQha0CKwIu9gHmGQEtObEEFKsZAzPurP/l+V0DHXr5AOlslQUwapkCcNgVAOXyfQD+0CEErh+xAOmt+QKWrikAIT/BAtJAjQR1mT0CW51LANEvrQGVskkBn2nFAcjKbQJUj7T8rr5s/M0sfQYziHUFhriRBN8ZXQAuo0EDXv6hAg1xIQDp4gr2onndARmecQGobKz/09jA/zyidQBEhar/7bBvAYnXQQNNmXEALDRnAhbpgP/HaRkAj6NxAyAtQQETEgUBHSD1AbWksQVxi60BMo5hAyns1QcnDI0A8Nve/7G+VQNpRVEAse11Ac84fQa4ETUDhNSxBNP8Qv8waI0ABb+3AeliiQFlcE0HzpmtAqbEpQT43KEEFRoVAxPitQEcNVcBvNiFBfi0hQE8lS0DHC4BAhHFEv5kwS0GwerlAcAJmP/b+F0CNLupA/BtTQFJPEEBqHQJBWDPfQB9xqEBWPpNAdzWUv8x5ND5YuL9A4N9LQKYZoj+jjYxAmktwQKX79D/fVxFB9bPOQHUWA0EZkQlBmAPvQBesVz4Z1XRAbYaqQCCNV0AYP99AN04lQBdiAUGe/fxAazwyQMvFZEHIQY0/foOUQLM5F0DhXgvAYGZ9QMFgKMCY3s1AE9Ftv6aHGUExVt4/rb8NP30goj4/ctdAgia9QLTsu0BOMS9ABYUYwK8Dg0CaugxBbeZYQOrGFkGlM2bA9iQ6QKuJCUFTQxdBHi1KQPanCkG+EGFAHU3Kv2ezCUCT7hpBz/OJQAJ+q0CkgeU/ej7eQJHxD0EQkJLAdR/JQB2ZCcDqiXG/FYAJQfV+97x671RAoh+qQPwqv0BMOadACllkQAVO4UB/ohJAtJG/QGi8RkGaJXpAunQaQPpW6kA4DLBAykGDQO9PBEGAEBdAS6L3P+NhikDzetpA+PYXQCAYXkBxuw3AHhuBQa1Rf0EtCgVAc9jlQFI0IUE5+KS/3WVeQVtsmEDtqB9ADkMIQc+EMEEGpJvAQC0ZQeJikEAztqFAwASgQGStuUAvzHVA8U6jQHewmkAIKXBA4bCxQHwVCkD5YS5BU3iSQMYiMb81Hcc/gk35QFl9uUBr9j5AlZ1iQdo+YEBtFzVA0JiPQJDBDkEcv6C/EfSWQJmps0BTlsC/cpInQUnZXUBwVJtA12lTQKXj/79OjPm/6UjcQGRDtkAsajJAluC+Pwu/CEEZtwNBND4WQOzSOkGJPCjA/7EoP8LtJEGwzG9A+LZTvx++HkFKUyjAymrSQGKXh8Cyvqu9na0GQcMmsbzxhG++/UVHQLBLEb6YHow/SrocQYMBtUCVFqG/rY2rQFVuiECK/lJAVcAnQKpYjD+e5O0+NQtIQGCtGj0Ys8RAofO7QNgyk0AyxN8/U6hrQChGCUHpt3LAgYypQEG0xECxI/hABywiQV+vHkHlYRZBIvGnQMFyLkFfikm8C4PzQHEdMUBq4RZB2ciRQMyWeUAo3iY+x3cqQShLFUBhCENAEtiuQCraob9CFk9A1WIswNkTCkFOplxArv2/QDSN8EBqEK2/u8zMQItrh0Da0DFBVs/YQNB4Cb6finDAleO5QAuFoUCR5UtA+QGIQF+7ZUBmeO1ABkjxQOh0vL6ru9E/x3uNQKOp0kBI66NAIo2XQKTcoj/uHSA8AG1TQNrDIUBJ9us/XKzxQHpbkEAGMeI/OQ6tQJ7FuD+gaXbA9sWjQHCihj8i/R9BkesWQbFAxj8TnXBA++ezQP2MsUDbxMVAQh3vQONx40DcGFBA3wnwQI3VMUF6ZxBB/RivPjG/uUCeqK5AJtuJwOo5FkFU9j+/or4hPwt9uEAgvUhAllHwQAHm/0ALe6BAKeLBP5gikL/A9yxBI9fwQIRIqUBCZbtAjYoyQcolhUAWqZpA8LAxP7gTrkAo7L1AhRhhv7mME0HqsmJBmKeIQFjuBsAhsVQ/wvKIQEOjK8COQOFAzZYWQJtME0Efbc5AsN9jP1DMk0AUl5E/1DsYQSrwyUAL8gDAplVrQATHbUBwCKlAftn4QIBnOkH2AS5Av8lbP5cN10By3jVBoTEAQW9lm0Bh8AlByMvHQDsVGEHzWplAmhq3vYgV20DoE+BAV54YQdUrHsCUXMpABVnFQI2tB0GnCCBBVD/eQNOKE0GwF/dAyGzgPyJCgUBRBorAybAnwCBsEEAMEzNB4eWoP1864EC/Hx9AhT+KQHlOEkGnMyE/gOcuQYNagUCW0DNA8JAlQcGom0AEuZdAyDeBQOQnfD+B2zY//i41QIjlxj7PazFBqwgCQQlmNkDX8q9A3CfFQHKe6EAFPllAAg9YQJlY80DdrypAt/keQdRm2EAWeEy9zxQ2QPIYbUA/XMQ/kcoJv8q0gkBbs4lASynkPt/M8j+47GNAWJQrQV082EBadYVAwOumQGN3BUG30nK/G1z1QGvPKkEddBFBHIYaQBSYKkH1DwpB0j4RvnyT4UACRE9AYgZhQOHEp74mrmzARMGdQCTJBUGvBau/UMUiwPvQkUCpMx5BDv2uQCGiQUGYDJFAR97GQMBC0D+whu1AIKq4vxtSuD4DXxu+UGYLPxC2jEDkxRdBr02mQNBnG8HeDiRAo89kQFaKy0DbIre+mIXCQHDOj0BC1yu+IyWkQOzB90CEyhBBr/WmPxbFK7/VcN5Ay4SSwG3Y9ECL2nhAbBnNQEr9M0BPHqVA+S4YQCHg50DTKcI/ZTtaQD8Gt8DzOwC/P202QJvRS0BCPK/AdYIdv2bP8EBUdMtAfBGvQAEN5j+dGanAxG7mQNrPIT5bAhFB0q3NQCkbFkENfzdAXfsaPdgoD74+BoE/Zr0mQTv9k79xgLVA37qPP9M++0DAf8fAg5OJQAuhz0BwSgVBFYH9QNskl0AXV7S9joszQDXAnr+wrWHACEw7QGooTz8K+7VA3/iGQAwQjEAeFYBA8XdSQKtqk0D4K81AgxDDPxjdfECkozM8xqpYQDL7iL+S31FAUvK1QJZsi0CrtgxBjlovQSsEMEClm1ZA2DGAQOnvP7527TpBfhrKQGlQFcC7QjdAuWILQYgZK0B0940/GV1XQMFuqT/JzsS/meo+wAjeFkGTIC9BN2ldv8unIEDQ6sVAUckeQPjrNEG1w9FApgcLQaUp5EDLix9BMgIhQaFcb0DFXjRB6P4bQexs4kD4Yc3AuwsUQQ4yPECKkxRBv8C4P5J/NEBspGNAmRo6QduATUB+4ro/8fARQaEshEAd1EJAKLYAQXwUGEE8QI5AaJitP4xkzkBtmTVA8xmJP9Qey0CZ/zZBALT+QF1rB0H4AQpBrXEuwGy2p0AeqR/AyS1wvwUjOcDJtLJA7h/VP9Tz5j+ahQdBvObtQKW6/0ALm19Ab5FqQIVLr0AM/4hA0TUnQChaq0C2Jau/xVkNQX0Fxz7xZTVBJdA3wGXKCEFpBRhBnpCzQD4Ze0Dxu4NAN4yzP1TsDkEOTD8/WW/3QCK9yr9DtrJAObWDQNxzXb9wShdBQeiLQF38y0DxJsZAsuLQQFbloUAunhpBMnAaQNeoBEEznvJA2kUcQf8RykBpcjJB0ujvQMU+YUBokzlAgtsMQGhjCUH5FYs+si8OQMIHpEDSXOxAvCXqQH4chkDDEQtBCwbsQMJTbMBnqbxA3aU1QD7cmUDhymO/8A8oQQIElUA+A0vAHeraQDhUNkCwTQxB9+q8QDcBGUEpoMxAnHPjv0Q3Nz+tIBNBEMSKv2csR0CIcsVAUFspQQteO0EtH78/gc4TQasw1b8QDxJBuXUIQYFYPD76kxNAV1Y8QPxA4j985q5Ao36bQO+XjUCbg6c9W2NKvulIv0DDmexAh0j4PyKhtz9B9K5ANk9GvxSbjUBaz5tAuNmLQChYUkCHWctAgToKQXDg3UAMJcS/xB3nQLkDAEG4w69AeMg3QFaBt7+oEQxBKRWKPjWSqz8RUA9B40GUQD8oGkHc1/NAEc70QNUSlEBWYARBY4ouwPOKJ0DOY1K/hCRHQHngh0DlbxdAAzgsPjKXZUDbN+dA7AyMQKD2uUCUt/hA0nBtQAu4DEFbMDZAWMwuQFLK4EBc0dxABF6/QJ0nh8AawLFAsCKZQAs4iECBPoNAh3JOPg6lYUD4ExxAJ0jtP7k3DEEf/ttA73aWP/j2UEApbGxA+AjTQA7QYEDIQ4ZASXvnP8DkuT/ER4e/JaidQLW4RkH8hw1B4JAYQUAY4kDYk1fAacMjQXTb9EAaFIJAihcOv8jB2EBcs3NAB6HgP0CYp0CPHelAsHmLwAicUkCpr1U/2+mIP35HMkDhn6lAnCVYQPqcAkGJ2YBAAe8OQIlga79lAmI++6wOQDgkWz//m+8/Ba9qv7fT0EB6tjJAe3wAQeGwh0CbV4w+2xIGQVRbtEAIFJ9AUAgYQNzwMUFOZVZA4WTOv0V7AUAbsxxAs1cYQSyIrECQatRA1dHnP0ZkfUArvCtAP7YUQdqi9kBAc9xAThuHvxjgN0BP45lAppqUQKb4ukDe5JRAzHWWQInOL8Bnlh5BmABGwModVUGYp8c+qMXtP8onlEAibWdA6a7xP4qlHEBKN+pAvwzCQMWr9z/q70dBsScBQbejuEDokKVA9U7gQJr0cz7zmPRAvtOkQNxwjkAmKcJAkAqpQF+YHT8vrI1A1HMjwGTIPMDrFHxAQlMOQVImkD/a2L8/cnpdQGVYNkALBFO+RvEBQEJhtEC8VX5BUhjsQErydUAJaa0/3WokQfocWkATiW9At2leQF+9OMAzCUXABXz/P874/j/JHXVAQmzZQKNPV8Dr2J4+SivkOxbcj0DVnNxA7ffFQP8FccDz8dBAGFmWP0mxyL9TsMU/TSv5P/U9gUCkKKpABfMVwONPlUAekz4/lP/MQHuB7kB//he/WuOgQJuyFr9EL+VAM51XQCUvBEB8BFpAkFXsQLBSg0B3JwdBJStsQPQjukBX7TpBMt2LQAwaEEFPYtJAII1PQFvQ/r9P36jA1TRXQKRQNUEoJqi+UZhyvyr1WEFr5dQ/RqYOQT3JAkHJ1OlABronQOANAT3Y/cs/YXg5QHHPHUC5Ms1Abt/LQPYRgUDPNyJB3AX+QBBIpD52yYlA2zGxQFDszUC4rLFAxOPTQNbbtj9Hm/JAlfLIQLigIUAOkx1BpHT0P8Bk+kB4DN0/DBXtQFby8EBSF/pAWqfTQBEoykAdiaRA20ZYP6LCpEBBRB9B81U+PuXpAUHz0lxA9UC6QCQ5pUA1yqhAUy4eQD1BJ0CtJOJA5/6RP/zbxkAAaD9AsoTLQOEB2b5UPglBQAgwwDPXgEDqayxBBhrNQE2bjz8GRxxBDlVHwL7rjUBBz/9AfVYAQaML1EDcZwFAvbhevZRgr0D9UqBAz4bVQOhBzUCG5qBAUvCcQDmnE0D7WNJAdjI0QboHVMB5NRhBbF6hQMJBHcBUg4ZABgsOQbmgsEDFbs++xBYYQCT/mkCJmpa+li1rQOp8pEA=",
          "dtype": "f4"
         }
        }
       ],
       "layout": {
        "coloraxis": {
         "colorbar": {
          "title": {
           "text": "color"
          }
         },
         "colorscale": [
          [
           0,
           "#0d0887"
          ],
          [
           0.1111111111111111,
           "#46039f"
          ],
          [
           0.2222222222222222,
           "#7201a8"
          ],
          [
           0.3333333333333333,
           "#9c179e"
          ],
          [
           0.4444444444444444,
           "#bd3786"
          ],
          [
           0.5555555555555556,
           "#d8576b"
          ],
          [
           0.6666666666666666,
           "#ed7953"
          ],
          [
           0.7777777777777778,
           "#fb9f3a"
          ],
          [
           0.8888888888888888,
           "#fdca26"
          ],
          [
           1,
           "#f0f921"
          ]
         ]
        },
        "legend": {
         "tracegroupgap": 0
        },
        "margin": {
         "t": 60
        },
        "scene": {
         "domain": {
          "x": [
           0,
           1
          ],
          "y": [
           0,
           1
          ]
         },
         "xaxis": {
          "title": {
           "text": "x"
          }
         },
         "yaxis": {
          "title": {
           "text": "y"
          }
         },
         "zaxis": {
          "title": {
           "text": "z"
          }
         }
        },
        "template": {
         "data": {
          "bar": [
           {
            "error_x": {
             "color": "#2a3f5f"
            },
            "error_y": {
             "color": "#2a3f5f"
            },
            "marker": {
             "line": {
              "color": "#E5ECF6",
              "width": 0.5
             },
             "pattern": {
              "fillmode": "overlay",
              "size": 10,
              "solidity": 0.2
             }
            },
            "type": "bar"
           }
          ],
          "barpolar": [
           {
            "marker": {
             "line": {
              "color": "#E5ECF6",
              "width": 0.5
             },
             "pattern": {
              "fillmode": "overlay",
              "size": 10,
              "solidity": 0.2
             }
            },
            "type": "barpolar"
           }
          ],
          "carpet": [
           {
            "aaxis": {
             "endlinecolor": "#2a3f5f",
             "gridcolor": "white",
             "linecolor": "white",
             "minorgridcolor": "white",
             "startlinecolor": "#2a3f5f"
            },
            "baxis": {
             "endlinecolor": "#2a3f5f",
             "gridcolor": "white",
             "linecolor": "white",
             "minorgridcolor": "white",
             "startlinecolor": "#2a3f5f"
            },
            "type": "carpet"
           }
          ],
          "choropleth": [
           {
            "colorbar": {
             "outlinewidth": 0,
             "ticks": ""
            },
            "type": "choropleth"
           }
          ],
          "contour": [
           {
            "colorbar": {
             "outlinewidth": 0,
             "ticks": ""
            },
            "colorscale": [
             [
              0,
              "#0d0887"
             ],
             [
              0.1111111111111111,
              "#46039f"
             ],
             [
              0.2222222222222222,
              "#7201a8"
             ],
             [
              0.3333333333333333,
              "#9c179e"
             ],
             [
              0.4444444444444444,
              "#bd3786"
             ],
             [
              0.5555555555555556,
              "#d8576b"
             ],
             [
              0.6666666666666666,
              "#ed7953"
             ],
             [
              0.7777777777777778,
              "#fb9f3a"
             ],
             [
              0.8888888888888888,
              "#fdca26"
             ],
             [
              1,
              "#f0f921"
             ]
            ],
            "type": "contour"
           }
          ],
          "contourcarpet": [
           {
            "colorbar": {
             "outlinewidth": 0,
             "ticks": ""
            },
            "type": "contourcarpet"
           }
          ],
          "heatmap": [
           {
            "colorbar": {
             "outlinewidth": 0,
             "ticks": ""
            },
            "colorscale": [
             [
              0,
              "#0d0887"
             ],
             [
              0.1111111111111111,
              "#46039f"
             ],
             [
              0.2222222222222222,
              "#7201a8"
             ],
             [
              0.3333333333333333,
              "#9c179e"
             ],
             [
              0.4444444444444444,
              "#bd3786"
             ],
             [
              0.5555555555555556,
              "#d8576b"
             ],
             [
              0.6666666666666666,
              "#ed7953"
             ],
             [
              0.7777777777777778,
              "#fb9f3a"
             ],
             [
              0.8888888888888888,
              "#fdca26"
             ],
             [
              1,
              "#f0f921"
             ]
            ],
            "type": "heatmap"
           }
          ],
          "histogram": [
           {
            "marker": {
             "pattern": {
              "fillmode": "overlay",
              "size": 10,
              "solidity": 0.2
             }
            },
            "type": "histogram"
           }
          ],
          "histogram2d": [
           {
            "colorbar": {
             "outlinewidth": 0,
             "ticks": ""
            },
            "colorscale": [
             [
              0,
              "#0d0887"
             ],
             [
              0.1111111111111111,
              "#46039f"
             ],
             [
              0.2222222222222222,
              "#7201a8"
             ],
             [
              0.3333333333333333,
              "#9c179e"
             ],
             [
              0.4444444444444444,
              "#bd3786"
             ],
             [
              0.5555555555555556,
              "#d8576b"
             ],
             [
              0.6666666666666666,
              "#ed7953"
             ],
             [
              0.7777777777777778,
              "#fb9f3a"
             ],
             [
              0.8888888888888888,
              "#fdca26"
             ],
             [
              1,
              "#f0f921"
             ]
            ],
            "type": "histogram2d"
           }
          ],
          "histogram2dcontour": [
           {
            "colorbar": {
             "outlinewidth": 0,
             "ticks": ""
            },
            "colorscale": [
             [
              0,
              "#0d0887"
             ],
             [
              0.1111111111111111,
              "#46039f"
             ],
             [
              0.2222222222222222,
              "#7201a8"
             ],
             [
              0.3333333333333333,
              "#9c179e"
             ],
             [
              0.4444444444444444,
              "#bd3786"
             ],
             [
              0.5555555555555556,
              "#d8576b"
             ],
             [
              0.6666666666666666,
              "#ed7953"
             ],
             [
              0.7777777777777778,
              "#fb9f3a"
             ],
             [
              0.8888888888888888,
              "#fdca26"
             ],
             [
              1,
              "#f0f921"
             ]
            ],
            "type": "histogram2dcontour"
           }
          ],
          "mesh3d": [
           {
            "colorbar": {
             "outlinewidth": 0,
             "ticks": ""
            },
            "type": "mesh3d"
           }
          ],
          "parcoords": [
           {
            "line": {
             "colorbar": {
              "outlinewidth": 0,
              "ticks": ""
             }
            },
            "type": "parcoords"
           }
          ],
          "pie": [
           {
            "automargin": true,
            "type": "pie"
           }
          ],
          "scatter": [
           {
            "fillpattern": {
             "fillmode": "overlay",
             "size": 10,
             "solidity": 0.2
            },
            "type": "scatter"
           }
          ],
          "scatter3d": [
           {
            "line": {
             "colorbar": {
              "outlinewidth": 0,
              "ticks": ""
             }
            },
            "marker": {
             "colorbar": {
              "outlinewidth": 0,
              "ticks": ""
             }
            },
            "type": "scatter3d"
           }
          ],
          "scattercarpet": [
           {
            "marker": {
             "colorbar": {
              "outlinewidth": 0,
              "ticks": ""
             }
            },
            "type": "scattercarpet"
           }
          ],
          "scattergeo": [
           {
            "marker": {
             "colorbar": {
              "outlinewidth": 0,
              "ticks": ""
             }
            },
            "type": "scattergeo"
           }
          ],
          "scattergl": [
           {
            "marker": {
             "colorbar": {
              "outlinewidth": 0,
              "ticks": ""
             }
            },
            "type": "scattergl"
           }
          ],
          "scattermap": [
           {
            "marker": {
             "colorbar": {
              "outlinewidth": 0,
              "ticks": ""
             }
            },
            "type": "scattermap"
           }
          ],
          "scattermapbox": [
           {
            "marker": {
             "colorbar": {
              "outlinewidth": 0,
              "ticks": ""
             }
            },
            "type": "scattermapbox"
           }
          ],
          "scatterpolar": [
           {
            "marker": {
             "colorbar": {
              "outlinewidth": 0,
              "ticks": ""
             }
            },
            "type": "scatterpolar"
           }
          ],
          "scatterpolargl": [
           {
            "marker": {
             "colorbar": {
              "outlinewidth": 0,
              "ticks": ""
             }
            },
            "type": "scatterpolargl"
           }
          ],
          "scatterternary": [
           {
            "marker": {
             "colorbar": {
              "outlinewidth": 0,
              "ticks": ""
             }
            },
            "type": "scatterternary"
           }
          ],
          "surface": [
           {
            "colorbar": {
             "outlinewidth": 0,
             "ticks": ""
            },
            "colorscale": [
             [
              0,
              "#0d0887"
             ],
             [
              0.1111111111111111,
              "#46039f"
             ],
             [
              0.2222222222222222,
              "#7201a8"
             ],
             [
              0.3333333333333333,
              "#9c179e"
             ],
             [
              0.4444444444444444,
              "#bd3786"
             ],
             [
              0.5555555555555556,
              "#d8576b"
             ],
             [
              0.6666666666666666,
              "#ed7953"
             ],
             [
              0.7777777777777778,
              "#fb9f3a"
             ],
             [
              0.8888888888888888,
              "#fdca26"
             ],
             [
              1,
              "#f0f921"
             ]
            ],
            "type": "surface"
           }
          ],
          "table": [
           {
            "cells": {
             "fill": {
              "color": "#EBF0F8"
             },
             "line": {
              "color": "white"
             }
            },
            "header": {
             "fill": {
              "color": "#C8D4E3"
             },
             "line": {
              "color": "white"
             }
            },
            "type": "table"
           }
          ]
         },
         "layout": {
          "annotationdefaults": {
           "arrowcolor": "#2a3f5f",
           "arrowhead": 0,
           "arrowwidth": 1
          },
          "autotypenumbers": "strict",
          "coloraxis": {
           "colorbar": {
            "outlinewidth": 0,
            "ticks": ""
           }
          },
          "colorscale": {
           "diverging": [
            [
             0,
             "#8e0152"
            ],
            [
             0.1,
             "#c51b7d"
            ],
            [
             0.2,
             "#de77ae"
            ],
            [
             0.3,
             "#f1b6da"
            ],
            [
             0.4,
             "#fde0ef"
            ],
            [
             0.5,
             "#f7f7f7"
            ],
            [
             0.6,
             "#e6f5d0"
            ],
            [
             0.7,
             "#b8e186"
            ],
            [
             0.8,
             "#7fbc41"
            ],
            [
             0.9,
             "#4d9221"
            ],
            [
             1,
             "#276419"
            ]
           ],
           "sequential": [
            [
             0,
             "#0d0887"
            ],
            [
             0.1111111111111111,
             "#46039f"
            ],
            [
             0.2222222222222222,
             "#7201a8"
            ],
            [
             0.3333333333333333,
             "#9c179e"
            ],
            [
             0.4444444444444444,
             "#bd3786"
            ],
            [
             0.5555555555555556,
             "#d8576b"
            ],
            [
             0.6666666666666666,
             "#ed7953"
            ],
            [
             0.7777777777777778,
             "#fb9f3a"
            ],
            [
             0.8888888888888888,
             "#fdca26"
            ],
            [
             1,
             "#f0f921"
            ]
           ],
           "sequentialminus": [
            [
             0,
             "#0d0887"
            ],
            [
             0.1111111111111111,
             "#46039f"
            ],
            [
             0.2222222222222222,
             "#7201a8"
            ],
            [
             0.3333333333333333,
             "#9c179e"
            ],
            [
             0.4444444444444444,
             "#bd3786"
            ],
            [
             0.5555555555555556,
             "#d8576b"
            ],
            [
             0.6666666666666666,
             "#ed7953"
            ],
            [
             0.7777777777777778,
             "#fb9f3a"
            ],
            [
             0.8888888888888888,
             "#fdca26"
            ],
            [
             1,
             "#f0f921"
            ]
           ]
          },
          "colorway": [
           "#636efa",
           "#EF553B",
           "#00cc96",
           "#ab63fa",
           "#FFA15A",
           "#19d3f3",
           "#FF6692",
           "#B6E880",
           "#FF97FF",
           "#FECB52"
          ],
          "font": {
           "color": "#2a3f5f"
          },
          "geo": {
           "bgcolor": "white",
           "lakecolor": "white",
           "landcolor": "#E5ECF6",
           "showlakes": true,
           "showland": true,
           "subunitcolor": "white"
          },
          "hoverlabel": {
           "align": "left"
          },
          "hovermode": "closest",
          "mapbox": {
           "style": "light"
          },
          "paper_bgcolor": "white",
          "plot_bgcolor": "#E5ECF6",
          "polar": {
           "angularaxis": {
            "gridcolor": "white",
            "linecolor": "white",
            "ticks": ""
           },
           "bgcolor": "#E5ECF6",
           "radialaxis": {
            "gridcolor": "white",
            "linecolor": "white",
            "ticks": ""
           }
          },
          "scene": {
           "xaxis": {
            "backgroundcolor": "#E5ECF6",
            "gridcolor": "white",
            "gridwidth": 2,
            "linecolor": "white",
            "showbackground": true,
            "ticks": "",
            "zerolinecolor": "white"
           },
           "yaxis": {
            "backgroundcolor": "#E5ECF6",
            "gridcolor": "white",
            "gridwidth": 2,
            "linecolor": "white",
            "showbackground": true,
            "ticks": "",
            "zerolinecolor": "white"
           },
           "zaxis": {
            "backgroundcolor": "#E5ECF6",
            "gridcolor": "white",
            "gridwidth": 2,
            "linecolor": "white",
            "showbackground": true,
            "ticks": "",
            "zerolinecolor": "white"
           }
          },
          "shapedefaults": {
           "line": {
            "color": "#2a3f5f"
           }
          },
          "ternary": {
           "aaxis": {
            "gridcolor": "white",
            "linecolor": "white",
            "ticks": ""
           },
           "baxis": {
            "gridcolor": "white",
            "linecolor": "white",
            "ticks": ""
           },
           "bgcolor": "#E5ECF6",
           "caxis": {
            "gridcolor": "white",
            "linecolor": "white",
            "ticks": ""
           }
          },
          "title": {
           "x": 0.05
          },
          "xaxis": {
           "automargin": true,
           "gridcolor": "white",
           "linecolor": "white",
           "ticks": "",
           "title": {
            "standoff": 15
           },
           "zerolinecolor": "white",
           "zerolinewidth": 2
          },
          "yaxis": {
           "automargin": true,
           "gridcolor": "white",
           "linecolor": "white",
           "ticks": "",
           "title": {
            "standoff": 15
           },
           "zerolinecolor": "white",
           "zerolinewidth": 2
          }
         }
        }
       }
      }
     },
     "metadata": {},
     "output_type": "display_data"
    }
   ],
   "source": [
    "import plotly.express as px\n",
    "px.scatter_3d(x=data.X[:, 0], y=data.X[:, 1], z=data.y[:, 0], color=data.y[:, 0])\n",
    "# px.scatter_3d(x=data.X[:, "
   ]
  },
  {
   "cell_type": "code",
   "execution_count": null,
   "id": "505fd364",
   "metadata": {},
   "outputs": [],
   "source": []
  },
  {
   "cell_type": "code",
   "execution_count": 30,
   "id": "592fa4fe",
   "metadata": {},
   "outputs": [],
   "source": [
    "import matplotlib.pyplot as plt"
   ]
  },
  {
   "cell_type": "code",
   "execution_count": 31,
   "id": "a1ac64ba",
   "metadata": {},
   "outputs": [
    {
     "data": {
      "text/plain": [
       "<mpl_toolkits.mplot3d.art3d.Path3DCollection at 0x7b6309e6eec0>"
      ]
     },
     "execution_count": 31,
     "metadata": {},
     "output_type": "execute_result"
    },
    {
     "data": {
      "image/png": "[encoded data removed]",
      "text/plain": [
       "<Figure size 640x480 with 1 Axes>"
      ]
     },
     "metadata": {},
     "output_type": "display_data"
    }
   ],
   "source": [
    "fig = plt.figure()\n",
    "ax = fig.add_subplot(projection='3d')\n",
    "ax.scatter(data.X[:, 0], data.X[:, 1], data.y)"
   ]
  },
  {
   "cell_type": "code",
   "execution_count": 24,
   "id": "b0b939eb",
   "metadata": {},
   "outputs": [
    {
     "data": {
      "text/plain": [
       "<Axes: xlabel='$x_i$', ylabel='y'>"
      ]
     },
     "execution_count": 24,
     "metadata": {},
     "output_type": "execute_result"
    },
    {
     "data": {
      "image/png": "[encoded data removed]",
      "text/plain": [
       "<Figure size 640x480 with 1 Axes>"
      ]
     },
     "metadata": {},
     "output_type": "display_data"
    }
   ],
   "source": [
    "str_lbl_x = \"$x_i$\"\n",
    "str_lbl_y = \"y\"\n",
    "fig, ax = plt.subplots()\n",
    "# ax.plot(data.X, data.y, 'o')\n",
    "ax.plot(data.X, 'o')\n",
    "ax.set_xlabel(str_lbl_x)\n",
    "ax.set_ylabel(str_lbl_y)\n",
    "ax"
   ]
  },
  {
   "cell_type": "code",
   "execution_count": null,
   "id": "8d91025c",
   "metadata": {},
   "outputs": [
    {
     "data": {
      "text/plain": [
       "tensor([-0.3362, -2.1757,  0.9646,  ...,  0.8601, -1.0998,  0.8635])"
      ]
     },
     "execution_count": 27,
     "metadata": {},
     "output_type": "execute_result"
    }
   ],
   "source": []
  },
  {
   "cell_type": "code",
   "execution_count": 29,
   "id": "8f66165e",
   "metadata": {},
   "outputs": [
    {
     "data": {
      "text/plain": [
       "array([<Axes: >, <Axes: >], dtype=object)"
      ]
     },
     "execution_count": 29,
     "metadata": {},
     "output_type": "execute_result"
    },
    {
     "data": {
      "image/png": "[encoded data removed]",
      "text/plain": [
       "<Figure size 640x480 with 2 Axes>"
      ]
     },
     "metadata": {},
     "output_type": "display_data"
    }
   ],
   "source": [
    "str_lbl_x = \"$x_i$\"\n",
    "str_lbl_y = \"y\"\n",
    "fig, ax = plt.subplots(2)\n",
    "ax[0].plot(data.X[:, 0], data.y, 'o')\n",
    "ax[1].plot(data.X[:, 1], data.y, 'o')\n",
    "# ax.set_xlabel(str_lbl_x)\n",
    "# ax.set_ylabel(str_lbl_y)\n",
    "ax"
   ]
  },
  {
   "cell_type": "markdown",
   "id": "4105d024",
   "metadata": {
    "origin_pos": 10
   },
   "source": [
    "[**Each row in `features` consists of a vector in $\\mathbb{R}^2$ and each row in `labels` is a scalar.**] Let's have a look at the first entry.\n"
   ]
  },
  {
   "cell_type": "code",
   "execution_count": 5,
   "id": "43e267cb",
   "metadata": {
    "execution": {
     "iopub.execute_input": "2023-08-18T19:36:15.395708Z",
     "iopub.status.busy": "2023-08-18T19:36:15.394509Z",
     "iopub.status.idle": "2023-08-18T19:36:15.405078Z",
     "shell.execute_reply": "2023-08-18T19:36:15.402629Z"
    },
    "origin_pos": 11,
    "tab": [
     "pytorch"
    ]
   },
   "outputs": [
    {
     "name": "stdout",
     "output_type": "stream",
     "text": [
      "features: tensor([ 0.2371, -0.2099]) \n",
      "label: tensor([5.3917])\n"
     ]
    }
   ],
   "source": [
    "print('features:', data.X[0],'\\nlabel:', data.y[0])"
   ]
  },
  {
   "cell_type": "markdown",
   "id": "bf8516d3",
   "metadata": {
    "origin_pos": 12
   },
   "source": [
    "## Reading the Dataset\n",
    "\n",
    "Training machine learning models often requires multiple passes over a dataset, \n",
    "grabbing one minibatch of examples at a time. \n",
    "This data is then used to update the model. \n",
    "To illustrate how this works, we \n",
    "[**implement the `get_dataloader` method,**] \n",
    "registering it in the `SyntheticRegressionData` class via `add_to_class` (introduced in :numref:`oo-design-utilities`).\n",
    "It (**takes a batch size, a matrix of features,\n",
    "and a vector of labels, and generates minibatches of size `batch_size`.**)\n",
    "As such, each minibatch consists of a tuple of features and labels. \n",
    "Note that we need to be mindful of whether we're in training or validation mode: \n",
    "in the former, we will want to read the data in random order, \n",
    "whereas for the latter, being able to read data in a pre-defined order \n",
    "may be important for debugging purposes.\n"
   ]
  },
  {
   "cell_type": "code",
   "execution_count": 5,
   "id": "1686e6b2",
   "metadata": {
    "execution": {
     "iopub.execute_input": "2023-08-18T19:36:15.409740Z",
     "iopub.status.busy": "2023-08-18T19:36:15.408327Z",
     "iopub.status.idle": "2023-08-18T19:36:15.417911Z",
     "shell.execute_reply": "2023-08-18T19:36:15.416944Z"
    },
    "origin_pos": 13,
    "tab": [
     "pytorch"
    ]
   },
   "outputs": [],
   "source": [
    "@d2l.add_to_class(SyntheticRegressionData)\n",
    "def get_dataloader(self, train):\n",
    "    if train:\n",
    "        indices = list(range(0, self.num_train))\n",
    "        # The examples are read in random order\n",
    "        random.shuffle(indices)\n",
    "    else:\n",
    "        indices = list(range(self.num_train, self.num_train+self.num_val))\n",
    "    for i in range(0, len(indices), self.batch_size):\n",
    "        batch_indices = torch.tensor(indices[i: i+self.batch_size])\n",
    "        yield self.X[batch_indices], self.y[batch_indices]"
   ]
  },
  {
   "cell_type": "markdown",
   "id": "2437653f",
   "metadata": {
    "origin_pos": 14
   },
   "source": [
    "To build some intuition, let's inspect the first minibatch of\n",
    "data. Each minibatch of features provides us with both its size and the dimensionality of input features.\n",
    "Likewise, our minibatch of labels will have a matching shape given by `batch_size`.\n"
   ]
  },
  {
   "cell_type": "code",
   "execution_count": 6,
   "id": "d5af1472",
   "metadata": {
    "execution": {
     "iopub.execute_input": "2023-08-18T19:36:15.424253Z",
     "iopub.status.busy": "2023-08-18T19:36:15.423639Z",
     "iopub.status.idle": "2023-08-18T19:36:15.430119Z",
     "shell.execute_reply": "2023-08-18T19:36:15.429099Z"
    },
    "origin_pos": 15,
    "tab": [
     "pytorch"
    ]
   },
   "outputs": [
    {
     "name": "stdout",
     "output_type": "stream",
     "text": [
      "X shape: torch.Size([32, 2]) \n",
      "y shape: torch.Size([32, 1])\n"
     ]
    }
   ],
   "source": [
    "X, y = next(iter(data.train_dataloader()))\n",
    "print('X shape:', X.shape, '\\ny shape:', y.shape)"
   ]
  },
  {
   "cell_type": "markdown",
   "id": "c485f93e",
   "metadata": {
    "origin_pos": 16
   },
   "source": [
    "While seemingly innocuous, the invocation \n",
    "of `iter(data.train_dataloader())` \n",
    "illustrates the power of Python's object-oriented design. \n",
    "Note that we added a method to the `SyntheticRegressionData` class\n",
    "*after* creating the `data` object. \n",
    "Nonetheless, the object benefits from \n",
    "the *ex post facto* addition of functionality to the class.\n",
    "\n",
    "Throughout the iteration we obtain distinct minibatches\n",
    "until the entire dataset has been exhausted (try this).\n",
    "While the iteration implemented above is good for didactic purposes,\n",
    "it is inefficient in ways that might get us into trouble with real problems.\n",
    "For example, it requires that we load all the data in memory\n",
    "and that we perform lots of random memory access.\n",
    "The built-in iterators implemented in a deep learning framework\n",
    "are considerably more efficient and they can deal\n",
    "with sources such as data stored in files, \n",
    "data received via a stream, \n",
    "and data generated or processed on the fly. \n",
    "Next let's try to implement the same method using built-in iterators.\n",
    "\n",
    "## Concise Implementation of the Data Loader\n",
    "\n",
    "Rather than writing our own iterator,\n",
    "we can [**call the existing API in a framework to load data.**]\n",
    "As before, we need a dataset with features `X` and labels `y`. \n",
    "Beyond that, we set `batch_size` in the built-in data loader \n",
    "and let it take care of shuffling examples  efficiently.\n"
   ]
  },
  {
   "cell_type": "code",
   "execution_count": 7,
   "id": "d5ae674e",
   "metadata": {
    "execution": {
     "iopub.execute_input": "2023-08-18T19:36:15.434272Z",
     "iopub.status.busy": "2023-08-18T19:36:15.433429Z",
     "iopub.status.idle": "2023-08-18T19:36:15.441792Z",
     "shell.execute_reply": "2023-08-18T19:36:15.439267Z"
    },
    "origin_pos": 18,
    "tab": [
     "pytorch"
    ]
   },
   "outputs": [],
   "source": [
    "@d2l.add_to_class(d2l.DataModule)  #@save\n",
    "def get_tensorloader(self, tensors, train, indices=slice(0, None)):\n",
    "    tensors = tuple(a[indices] for a in tensors)\n",
    "    dataset = torch.utils.data.TensorDataset(*tensors)\n",
    "    return torch.utils.data.DataLoader(dataset, self.batch_size,\n",
    "                                       shuffle=train)"
   ]
  },
  {
   "cell_type": "code",
   "execution_count": 8,
   "id": "617242ed",
   "metadata": {
    "execution": {
     "iopub.execute_input": "2023-08-18T19:36:15.448335Z",
     "iopub.status.busy": "2023-08-18T19:36:15.447832Z",
     "iopub.status.idle": "2023-08-18T19:36:15.457888Z",
     "shell.execute_reply": "2023-08-18T19:36:15.456920Z"
    },
    "origin_pos": 19,
    "tab": [
     "pytorch"
    ]
   },
   "outputs": [],
   "source": [
    "@d2l.add_to_class(SyntheticRegressionData)  #@save\n",
    "def get_dataloader(self, train):\n",
    "    i = slice(0, self.num_train) if train else slice(self.num_train, None)\n",
    "    return self.get_tensorloader((self.X, self.y), train, i)"
   ]
  },
  {
   "cell_type": "markdown",
   "id": "9b36d404",
   "metadata": {
    "origin_pos": 20
   },
   "source": [
    "The new data loader behaves just like the previous one, except that it is more efficient and has some added functionality.\n"
   ]
  },
  {
   "cell_type": "code",
   "execution_count": 9,
   "id": "2f5d57c3",
   "metadata": {
    "attributes": {
     "classes": [],
     "id": "",
     "n": "4"
    },
    "execution": {
     "iopub.execute_input": "2023-08-18T19:36:15.464003Z",
     "iopub.status.busy": "2023-08-18T19:36:15.462740Z",
     "iopub.status.idle": "2023-08-18T19:36:15.474793Z",
     "shell.execute_reply": "2023-08-18T19:36:15.473623Z"
    },
    "origin_pos": 21,
    "tab": [
     "pytorch"
    ]
   },
   "outputs": [
    {
     "name": "stdout",
     "output_type": "stream",
     "text": [
      "X shape: torch.Size([32, 2]) \n",
      "y shape: torch.Size([32, 1])\n"
     ]
    }
   ],
   "source": [
    "X, y = next(iter(data.train_dataloader()))\n",
    "print('X shape:', X.shape, '\\ny shape:', y.shape)"
   ]
  },
  {
   "cell_type": "markdown",
   "id": "4e8e09f0",
   "metadata": {
    "origin_pos": 22
   },
   "source": [
    "For instance, the data loader provided by the framework API \n",
    "supports the built-in `__len__` method, \n",
    "so we can query its length, \n",
    "i.e., the number of batches.\n"
   ]
  },
  {
   "cell_type": "code",
   "execution_count": 10,
   "id": "790cbdfb",
   "metadata": {
    "execution": {
     "iopub.execute_input": "2023-08-18T19:36:15.479797Z",
     "iopub.status.busy": "2023-08-18T19:36:15.478884Z",
     "iopub.status.idle": "2023-08-18T19:36:15.489245Z",
     "shell.execute_reply": "2023-08-18T19:36:15.488320Z"
    },
    "origin_pos": 23,
    "tab": [
     "pytorch"
    ]
   },
   "outputs": [
    {
     "data": {
      "text/plain": [
       "32"
      ]
     },
     "execution_count": 10,
     "metadata": {},
     "output_type": "execute_result"
    }
   ],
   "source": [
    "len(data.train_dataloader())"
   ]
  },
  {
   "cell_type": "markdown",
   "id": "d5e73e34",
   "metadata": {
    "origin_pos": 24
   },
   "source": [
    "## Summary\n",
    "\n",
    "Data loaders are a convenient way of abstracting out \n",
    "the process of loading and manipulating data. \n",
    "This way the same machine learning *algorithm* \n",
    "is capable of processing many different types and sources of data \n",
    "without the need for modification. \n",
    "One of the nice things about data loaders \n",
    "is that they can be composed. \n",
    "For instance, we might be loading images \n",
    "and then have a postprocessing filter \n",
    "that crops them or modifies them in other ways. \n",
    "As such, data loaders can be used \n",
    "to describe an entire data processing pipeline. \n",
    "\n",
    "As for the model itself, the two-dimensional linear model \n",
    "is about the simplest we might encounter. \n",
    "It lets us test out the accuracy of regression models \n",
    "without worrying about having insufficient amounts of data \n",
    "or an underdetermined system of equations. \n",
    "We will put this to good use in the next section.  \n",
    "\n",
    "\n",
    "## Exercises\n",
    "\n",
    "1. What will happen if the number of examples cannot be divided by the batch size. How would you change this behavior by specifying a different argument by using the framework's API?\n",
    "1. Suppose that we want to generate a huge dataset, where both the size of the parameter vector `w` and the number of examples `num_examples` are large.\n",
    "    1. What happens if we cannot hold all data in memory?\n",
    "    1. How would you shuffle the data if it is held on disk? Your task is to design an *efficient* algorithm that does not require too many random reads or writes. Hint: [pseudorandom permutation generators](https://en.wikipedia.org/wiki/Pseudorandom_permutation) allow you to design a reshuffle without the need to store the permutation table explicitly :cite:`Naor.Reingold.1999`. \n",
    "1. Implement a data generator that produces new data on the fly, every time the iterator is called. \n",
    "1. How would you design a random data generator that generates *the same* data each time it is called?\n"
   ]
  },
  {
   "cell_type": "markdown",
   "id": "3a6d8f2c",
   "metadata": {
    "origin_pos": 26,
    "tab": [
     "pytorch"
    ]
   },
   "source": [
    "[Discussions](https://discuss.d2l.ai/t/6663)\n"
   ]
  }
 ],
 "metadata": {
  "kernelspec": {
   "display_name": "d2l.ai",
   "language": "python",
   "name": "python3"
  },
  "language_info": {
   "codemirror_mode": {
    "name": "ipython",
    "version": 3
   },
   "file_extension": ".py",
   "mimetype": "text/x-python",
   "name": "python",
   "nbconvert_exporter": "python",
   "pygments_lexer": "ipython3",
   "version": "3.10.18"
  },
  "required_libs": []
 },
 "nbformat": 4,
 "nbformat_minor": 5
}
