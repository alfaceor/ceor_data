{
 "cells": [
  {
   "cell_type": "markdown",
   "id": "d13df7ea",
   "metadata": {
    "origin_pos": 1
   },
   "source": [
    "# Synthetic Regression Data\n",
    ":label:`sec_synthetic-regression-data`\n",
    "\n",
    "\n",
    "Machine learning is all about extracting information from data.\n",
    "So you might wonder, what could we possibly learn from synthetic data?\n",
    "While we might not care intrinsically about the patterns \n",
    "that we ourselves baked into an artificial data generating model,\n",
    "such datasets are nevertheless useful for didactic purposes,\n",
    "helping us to evaluate the properties of our learning \n",
    "algorithms and to confirm that our implementations work as expected.\n",
    "For example, if we create data for which the correct parameters are known *a priori*,\n",
    "then we can check that our model can in fact recover them.\n"
   ]
  },
  {
   "cell_type": "code",
   "execution_count": 1,
   "id": "b9773b7e",
   "metadata": {
    "execution": {
     "iopub.execute_input": "2023-08-18T19:36:11.561594Z",
     "iopub.status.busy": "2023-08-18T19:36:11.560983Z",
     "iopub.status.idle": "2023-08-18T19:36:15.344149Z",
     "shell.execute_reply": "2023-08-18T19:36:15.342706Z"
    },
    "origin_pos": 3,
    "tab": [
     "pytorch"
    ]
   },
   "outputs": [],
   "source": [
    "%matplotlib inline\n",
    "import random\n",
    "import torch\n",
    "from d2l import torch as d2l"
   ]
  },
  {
   "cell_type": "markdown",
   "id": "4b65a3a2",
   "metadata": {
    "origin_pos": 6
   },
   "source": [
    "## Generating the Dataset\n",
    "\n",
    "For this example, we will work in low dimension\n",
    "for succinctness.\n",
    "The following code snippet generates 1000 examples\n",
    "with 2-dimensional features drawn \n",
    "from a standard normal distribution.\n",
    "The resulting design matrix $\\mathbf{X}$\n",
    "belongs to $\\mathbb{R}^{1000 \\times 2}$. \n",
    "We generate each label by applying \n",
    "a *ground truth* linear function, \n",
    "corrupting them via additive noise $\\boldsymbol{\\epsilon}$, \n",
    "drawn independently and identically for each example:\n",
    "\n",
    "(**$$\\mathbf{y}= \\mathbf{X} \\mathbf{w} + b + \\boldsymbol{\\epsilon}.$$**)\n",
    "\n",
    "For convenience we assume that $\\boldsymbol{\\epsilon}$ is drawn \n",
    "from a normal distribution with mean $\\mu= 0$ \n",
    "and standard deviation $\\sigma = 0.01$.\n",
    "Note that for object-oriented design\n",
    "we add the code to the `__init__` method of a subclass of `d2l.DataModule` (introduced in :numref:`oo-design-data`). \n",
    "It is good practice to allow the setting of any additional hyperparameters. \n",
    "We accomplish this with `save_hyperparameters()`. \n",
    "The `batch_size` will be determined later.\n"
   ]
  },
  {
   "cell_type": "code",
   "execution_count": 82,
   "id": "e174e8b1",
   "metadata": {
    "execution": {
     "iopub.execute_input": "2023-08-18T19:36:15.351059Z",
     "iopub.status.busy": "2023-08-18T19:36:15.350010Z",
     "iopub.status.idle": "2023-08-18T19:36:15.358156Z",
     "shell.execute_reply": "2023-08-18T19:36:15.357035Z"
    },
    "origin_pos": 7,
    "tab": [
     "pytorch"
    ]
   },
   "outputs": [],
   "source": [
    "class SyntheticRegressionData(d2l.DataModule):  #@save\n",
    "    \"\"\"Synthetic data for linear regression.\"\"\"\n",
    "    def __init__(self, w, b, noise=0.01, num_train=1000, num_val=1000,\n",
    "                 batch_size=32):\n",
    "        super().__init__()\n",
    "        self.save_hyperparameters()\n",
    "        n = num_train + num_val\n",
    "        self.X = torch.randn(n, len(w))\n",
    "        noise = torch.randn(n, 1) * noise\n",
    "        self.y = torch.matmul(self.X, w.reshape((-1, 1))) + b + noise"
   ]
  },
  {
   "cell_type": "markdown",
   "id": "60afd383",
   "metadata": {
    "origin_pos": 8
   },
   "source": [
    "Below, we set the true parameters to $\\mathbf{w} = [2, -3.4]^\\top$ and $b = 4.2$.\n",
    "Later, we can check our estimated parameters against these *ground truth* values.\n"
   ]
  },
  {
   "cell_type": "code",
   "execution_count": 83,
   "id": "38a83404",
   "metadata": {
    "execution": {
     "iopub.execute_input": "2023-08-18T19:36:15.362285Z",
     "iopub.status.busy": "2023-08-18T19:36:15.361503Z",
     "iopub.status.idle": "2023-08-18T19:36:15.390526Z",
     "shell.execute_reply": "2023-08-18T19:36:15.389339Z"
    },
    "origin_pos": 9,
    "tab": [
     "pytorch"
    ]
   },
   "outputs": [
    {
     "data": {
      "text/plain": [
       "(tensor([[-0.3380, -1.2547],\n",
       "         [ 1.1306,  0.0016],\n",
       "         [-1.0756,  0.4967],\n",
       "         ...,\n",
       "         [ 0.8888, -0.0836],\n",
       "         [ 0.2786,  0.0335],\n",
       "         [ 0.2213,  0.8669]]),\n",
       " tensor([[7.8004],\n",
       "         [6.4473],\n",
       "         [0.3482],\n",
       "         ...,\n",
       "         [6.2598],\n",
       "         [4.6353],\n",
       "         [1.7033]]))"
      ]
     },
     "execution_count": 83,
     "metadata": {},
     "output_type": "execute_result"
    }
   ],
   "source": [
    "data = SyntheticRegressionData(w=torch.tensor([2, -3.4]), b=4.2)\n",
    "data.X, data.y"
   ]
  },
  {
   "cell_type": "code",
   "execution_count": 81,
   "id": "d9763cc9",
   "metadata": {},
   "outputs": [
    {
     "data": {
      "application/vnd.plotly.v1+json": {
       "config": {
        "plotlyServerURL": "https://plot.ly"
       },
       "data": [
        {
         "hovertemplate": "x=%{x}<br>y=%{y}<br>z=%{z}<br>color=%{marker.color}<extra></extra>",
         "legendgroup": "",
         "marker": {
          "color": {
           "bdata": "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",
           "dtype": "f4"
          },
          "coloraxis": "coloraxis",
          "symbol": "circle"
         },
         "mode": "markers",
         "name": "",
         "scene": "scene",
         "showlegend": false,
         "type": "scatter3d",
         "x": {
          "bdata": "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",
          "dtype": "f4"
         },
         "y": {
          "bdata": "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",
          "dtype": "f4"
         },
         "z": {
          "bdata": "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",
          "dtype": "f4"
         }
        }
       ],
       "layout": {
        "coloraxis": {
         "colorbar": {
          "title": {
           "text": "color"
          }
         },
         "colorscale": [
          [
           0,
           "#0d0887"
          ],
          [
           0.1111111111111111,
           "#46039f"
          ],
          [
           0.2222222222222222,
           "#7201a8"
          ],
          [
           0.3333333333333333,
           "#9c179e"
          ],
          [
           0.4444444444444444,
           "#bd3786"
          ],
          [
           0.5555555555555556,
           "#d8576b"
          ],
          [
           0.6666666666666666,
           "#ed7953"
          ],
          [
           0.7777777777777778,
           "#fb9f3a"
          ],
          [
           0.8888888888888888,
           "#fdca26"
          ],
          [
           1,
           "#f0f921"
          ]
         ]
        },
        "legend": {
         "tracegroupgap": 0
        },
        "margin": {
         "t": 60
        },
        "scene": {
         "domain": {
          "x": [
           0,
           1
          ],
          "y": [
           0,
           1
          ]
         },
         "xaxis": {
          "title": {
           "text": "x"
          }
         },
         "yaxis": {
          "title": {
           "text": "y"
          }
         },
         "zaxis": {
          "title": {
           "text": "z"
          }
         }
        },
        "template": {
         "data": {
          "bar": [
           {
            "error_x": {
             "color": "#2a3f5f"
            },
            "error_y": {
             "color": "#2a3f5f"
            },
            "marker": {
             "line": {
              "color": "#E5ECF6",
              "width": 0.5
             },
             "pattern": {
              "fillmode": "overlay",
              "size": 10,
              "solidity": 0.2
             }
            },
            "type": "bar"
           }
          ],
          "barpolar": [
           {
            "marker": {
             "line": {
              "color": "#E5ECF6",
              "width": 0.5
             },
             "pattern": {
              "fillmode": "overlay",
              "size": 10,
              "solidity": 0.2
             }
            },
            "type": "barpolar"
           }
          ],
          "carpet": [
           {
            "aaxis": {
             "endlinecolor": "#2a3f5f",
             "gridcolor": "white",
             "linecolor": "white",
             "minorgridcolor": "white",
             "startlinecolor": "#2a3f5f"
            },
            "baxis": {
             "endlinecolor": "#2a3f5f",
             "gridcolor": "white",
             "linecolor": "white",
             "minorgridcolor": "white",
             "startlinecolor": "#2a3f5f"
            },
            "type": "carpet"
           }
          ],
          "choropleth": [
           {
            "colorbar": {
             "outlinewidth": 0,
             "ticks": ""
            },
            "type": "choropleth"
           }
          ],
          "contour": [
           {
            "colorbar": {
             "outlinewidth": 0,
             "ticks": ""
            },
            "colorscale": [
             [
              0,
              "#0d0887"
             ],
             [
              0.1111111111111111,
              "#46039f"
             ],
             [
              0.2222222222222222,
              "#7201a8"
             ],
             [
              0.3333333333333333,
              "#9c179e"
             ],
             [
              0.4444444444444444,
              "#bd3786"
             ],
             [
              0.5555555555555556,
              "#d8576b"
             ],
             [
              0.6666666666666666,
              "#ed7953"
             ],
             [
              0.7777777777777778,
              "#fb9f3a"
             ],
             [
              0.8888888888888888,
              "#fdca26"
             ],
             [
              1,
              "#f0f921"
             ]
            ],
            "type": "contour"
           }
          ],
          "contourcarpet": [
           {
            "colorbar": {
             "outlinewidth": 0,
             "ticks": ""
            },
            "type": "contourcarpet"
           }
          ],
          "heatmap": [
           {
            "colorbar": {
             "outlinewidth": 0,
             "ticks": ""
            },
            "colorscale": [
             [
              0,
              "#0d0887"
             ],
             [
              0.1111111111111111,
              "#46039f"
             ],
             [
              0.2222222222222222,
              "#7201a8"
             ],
             [
              0.3333333333333333,
              "#9c179e"
             ],
             [
              0.4444444444444444,
              "#bd3786"
             ],
             [
              0.5555555555555556,
              "#d8576b"
             ],
             [
              0.6666666666666666,
              "#ed7953"
             ],
             [
              0.7777777777777778,
              "#fb9f3a"
             ],
             [
              0.8888888888888888,
              "#fdca26"
             ],
             [
              1,
              "#f0f921"
             ]
            ],
            "type": "heatmap"
           }
          ],
          "histogram": [
           {
            "marker": {
             "pattern": {
              "fillmode": "overlay",
              "size": 10,
              "solidity": 0.2
             }
            },
            "type": "histogram"
           }
          ],
          "histogram2d": [
           {
            "colorbar": {
             "outlinewidth": 0,
             "ticks": ""
            },
            "colorscale": [
             [
              0,
              "#0d0887"
             ],
             [
              0.1111111111111111,
              "#46039f"
             ],
             [
              0.2222222222222222,
              "#7201a8"
             ],
             [
              0.3333333333333333,
              "#9c179e"
             ],
             [
              0.4444444444444444,
              "#bd3786"
             ],
             [
              0.5555555555555556,
              "#d8576b"
             ],
             [
              0.6666666666666666,
              "#ed7953"
             ],
             [
              0.7777777777777778,
              "#fb9f3a"
             ],
             [
              0.8888888888888888,
              "#fdca26"
             ],
             [
              1,
              "#f0f921"
             ]
            ],
            "type": "histogram2d"
           }
          ],
          "histogram2dcontour": [
           {
            "colorbar": {
             "outlinewidth": 0,
             "ticks": ""
            },
            "colorscale": [
             [
              0,
              "#0d0887"
             ],
             [
              0.1111111111111111,
              "#46039f"
             ],
             [
              0.2222222222222222,
              "#7201a8"
             ],
             [
              0.3333333333333333,
              "#9c179e"
             ],
             [
              0.4444444444444444,
              "#bd3786"
             ],
             [
              0.5555555555555556,
              "#d8576b"
             ],
             [
              0.6666666666666666,
              "#ed7953"
             ],
             [
              0.7777777777777778,
              "#fb9f3a"
             ],
             [
              0.8888888888888888,
              "#fdca26"
             ],
             [
              1,
              "#f0f921"
             ]
            ],
            "type": "histogram2dcontour"
           }
          ],
          "mesh3d": [
           {
            "colorbar": {
             "outlinewidth": 0,
             "ticks": ""
            },
            "type": "mesh3d"
           }
          ],
          "parcoords": [
           {
            "line": {
             "colorbar": {
              "outlinewidth": 0,
              "ticks": ""
             }
            },
            "type": "parcoords"
           }
          ],
          "pie": [
           {
            "automargin": true,
            "type": "pie"
           }
          ],
          "scatter": [
           {
            "fillpattern": {
             "fillmode": "overlay",
             "size": 10,
             "solidity": 0.2
            },
            "type": "scatter"
           }
          ],
          "scatter3d": [
           {
            "line": {
             "colorbar": {
              "outlinewidth": 0,
              "ticks": ""
             }
            },
            "marker": {
             "colorbar": {
              "outlinewidth": 0,
              "ticks": ""
             }
            },
            "type": "scatter3d"
           }
          ],
          "scattercarpet": [
           {
            "marker": {
             "colorbar": {
              "outlinewidth": 0,
              "ticks": ""
             }
            },
            "type": "scattercarpet"
           }
          ],
          "scattergeo": [
           {
            "marker": {
             "colorbar": {
              "outlinewidth": 0,
              "ticks": ""
             }
            },
            "type": "scattergeo"
           }
          ],
          "scattergl": [
           {
            "marker": {
             "colorbar": {
              "outlinewidth": 0,
              "ticks": ""
             }
            },
            "type": "scattergl"
           }
          ],
          "scattermap": [
           {
            "marker": {
             "colorbar": {
              "outlinewidth": 0,
              "ticks": ""
             }
            },
            "type": "scattermap"
           }
          ],
          "scattermapbox": [
           {
            "marker": {
             "colorbar": {
              "outlinewidth": 0,
              "ticks": ""
             }
            },
            "type": "scattermapbox"
           }
          ],
          "scatterpolar": [
           {
            "marker": {
             "colorbar": {
              "outlinewidth": 0,
              "ticks": ""
             }
            },
            "type": "scatterpolar"
           }
          ],
          "scatterpolargl": [
           {
            "marker": {
             "colorbar": {
              "outlinewidth": 0,
              "ticks": ""
             }
            },
            "type": "scatterpolargl"
           }
          ],
          "scatterternary": [
           {
            "marker": {
             "colorbar": {
              "outlinewidth": 0,
              "ticks": ""
             }
            },
            "type": "scatterternary"
           }
          ],
          "surface": [
           {
            "colorbar": {
             "outlinewidth": 0,
             "ticks": ""
            },
            "colorscale": [
             [
              0,
              "#0d0887"
             ],
             [
              0.1111111111111111,
              "#46039f"
             ],
             [
              0.2222222222222222,
              "#7201a8"
             ],
             [
              0.3333333333333333,
              "#9c179e"
             ],
             [
              0.4444444444444444,
              "#bd3786"
             ],
             [
              0.5555555555555556,
              "#d8576b"
             ],
             [
              0.6666666666666666,
              "#ed7953"
             ],
             [
              0.7777777777777778,
              "#fb9f3a"
             ],
             [
              0.8888888888888888,
              "#fdca26"
             ],
             [
              1,
              "#f0f921"
             ]
            ],
            "type": "surface"
           }
          ],
          "table": [
           {
            "cells": {
             "fill": {
              "color": "#EBF0F8"
             },
             "line": {
              "color": "white"
             }
            },
            "header": {
             "fill": {
              "color": "#C8D4E3"
             },
             "line": {
              "color": "white"
             }
            },
            "type": "table"
           }
          ]
         },
         "layout": {
          "annotationdefaults": {
           "arrowcolor": "#2a3f5f",
           "arrowhead": 0,
           "arrowwidth": 1
          },
          "autotypenumbers": "strict",
          "coloraxis": {
           "colorbar": {
            "outlinewidth": 0,
            "ticks": ""
           }
          },
          "colorscale": {
           "diverging": [
            [
             0,
             "#8e0152"
            ],
            [
             0.1,
             "#c51b7d"
            ],
            [
             0.2,
             "#de77ae"
            ],
            [
             0.3,
             "#f1b6da"
            ],
            [
             0.4,
             "#fde0ef"
            ],
            [
             0.5,
             "#f7f7f7"
            ],
            [
             0.6,
             "#e6f5d0"
            ],
            [
             0.7,
             "#b8e186"
            ],
            [
             0.8,
             "#7fbc41"
            ],
            [
             0.9,
             "#4d9221"
            ],
            [
             1,
             "#276419"
            ]
           ],
           "sequential": [
            [
             0,
             "#0d0887"
            ],
            [
             0.1111111111111111,
             "#46039f"
            ],
            [
             0.2222222222222222,
             "#7201a8"
            ],
            [
             0.3333333333333333,
             "#9c179e"
            ],
            [
             0.4444444444444444,
             "#bd3786"
            ],
            [
             0.5555555555555556,
             "#d8576b"
            ],
            [
             0.6666666666666666,
             "#ed7953"
            ],
            [
             0.7777777777777778,
             "#fb9f3a"
            ],
            [
             0.8888888888888888,
             "#fdca26"
            ],
            [
             1,
             "#f0f921"
            ]
           ],
           "sequentialminus": [
            [
             0,
             "#0d0887"
            ],
            [
             0.1111111111111111,
             "#46039f"
            ],
            [
             0.2222222222222222,
             "#7201a8"
            ],
            [
             0.3333333333333333,
             "#9c179e"
            ],
            [
             0.4444444444444444,
             "#bd3786"
            ],
            [
             0.5555555555555556,
             "#d8576b"
            ],
            [
             0.6666666666666666,
             "#ed7953"
            ],
            [
             0.7777777777777778,
             "#fb9f3a"
            ],
            [
             0.8888888888888888,
             "#fdca26"
            ],
            [
             1,
             "#f0f921"
            ]
           ]
          },
          "colorway": [
           "#636efa",
           "#EF553B",
           "#00cc96",
           "#ab63fa",
           "#FFA15A",
           "#19d3f3",
           "#FF6692",
           "#B6E880",
           "#FF97FF",
           "#FECB52"
          ],
          "font": {
           "color": "#2a3f5f"
          },
          "geo": {
           "bgcolor": "white",
           "lakecolor": "white",
           "landcolor": "#E5ECF6",
           "showlakes": true,
           "showland": true,
           "subunitcolor": "white"
          },
          "hoverlabel": {
           "align": "left"
          },
          "hovermode": "closest",
          "mapbox": {
           "style": "light"
          },
          "paper_bgcolor": "white",
          "plot_bgcolor": "#E5ECF6",
          "polar": {
           "angularaxis": {
            "gridcolor": "white",
            "linecolor": "white",
            "ticks": ""
           },
           "bgcolor": "#E5ECF6",
           "radialaxis": {
            "gridcolor": "white",
            "linecolor": "white",
            "ticks": ""
           }
          },
          "scene": {
           "xaxis": {
            "backgroundcolor": "#E5ECF6",
            "gridcolor": "white",
            "gridwidth": 2,
            "linecolor": "white",
            "showbackground": true,
            "ticks": "",
            "zerolinecolor": "white"
           },
           "yaxis": {
            "backgroundcolor": "#E5ECF6",
            "gridcolor": "white",
            "gridwidth": 2,
            "linecolor": "white",
            "showbackground": true,
            "ticks": "",
            "zerolinecolor": "white"
           },
           "zaxis": {
            "backgroundcolor": "#E5ECF6",
            "gridcolor": "white",
            "gridwidth": 2,
            "linecolor": "white",
            "showbackground": true,
            "ticks": "",
            "zerolinecolor": "white"
           }
          },
          "shapedefaults": {
           "line": {
            "color": "#2a3f5f"
           }
          },
          "ternary": {
           "aaxis": {
            "gridcolor": "white",
            "linecolor": "white",
            "ticks": ""
           },
           "baxis": {
            "gridcolor": "white",
            "linecolor": "white",
            "ticks": ""
           },
           "bgcolor": "#E5ECF6",
           "caxis": {
            "gridcolor": "white",
            "linecolor": "white",
            "ticks": ""
           }
          },
          "title": {
           "x": 0.05
          },
          "xaxis": {
           "automargin": true,
           "gridcolor": "white",
           "linecolor": "white",
           "ticks": "",
           "title": {
            "standoff": 15
           },
           "zerolinecolor": "white",
           "zerolinewidth": 2
          },
          "yaxis": {
           "automargin": true,
           "gridcolor": "white",
           "linecolor": "white",
           "ticks": "",
           "title": {
            "standoff": 15
           },
           "zerolinecolor": "white",
           "zerolinewidth": 2
          }
         }
        }
       }
      }
     },
     "metadata": {},
     "output_type": "display_data"
    }
   ],
   "source": [
    "import plotly.express as px\n",
    "px.scatter_3d(x=data.X[:, 0], y=data.X[:, 1], z=data.y[:, 0], color=data.y[:, 0])\n",
    "# px.scatter_3d(x=data.X[:, "
   ]
  },
  {
   "cell_type": "code",
   "execution_count": null,
   "id": "505fd364",
   "metadata": {},
   "outputs": [],
   "source": []
  },
  {
   "cell_type": "code",
   "execution_count": 84,
   "id": "592fa4fe",
   "metadata": {},
   "outputs": [],
   "source": [
    "import matplotlib.pyplot as plt"
   ]
  },
  {
   "cell_type": "code",
   "execution_count": 85,
   "id": "a1ac64ba",
   "metadata": {},
   "outputs": [
    {
     "data": {
      "text/plain": [
       "<mpl_toolkits.mplot3d.art3d.Path3DCollection at 0x7b62feb0db10>"
      ]
     },
     "execution_count": 85,
     "metadata": {},
     "output_type": "execute_result"
    },
    {
     "data": {
      "image/png": "[encoded data removed]",
      "text/plain": [
       "<Figure size 640x480 with 1 Axes>"
      ]
     },
     "metadata": {},
     "output_type": "display_data"
    }
   ],
   "source": [
    "fig = plt.figure()\n",
    "ax = fig.add_subplot(projection='3d')\n",
    "ax.scatter(data.X[:, 0], data.X[:, 1], data.y)"
   ]
  },
  {
   "cell_type": "code",
   "execution_count": 24,
   "id": "b0b939eb",
   "metadata": {},
   "outputs": [
    {
     "data": {
      "text/plain": [
       "<Axes: xlabel='$x_i$', ylabel='y'>"
      ]
     },
     "execution_count": 24,
     "metadata": {},
     "output_type": "execute_result"
    },
    {
     "data": {
      "image/png": "[encoded data removed]",
      "text/plain": [
       "<Figure size 640x480 with 1 Axes>"
      ]
     },
     "metadata": {},
     "output_type": "display_data"
    }
   ],
   "source": [
    "str_lbl_x = \"$x_i$\"\n",
    "str_lbl_y = \"y\"\n",
    "fig, ax = plt.subplots()\n",
    "# ax.plot(data.X, data.y, 'o')\n",
    "ax.plot(data.X, 'o')\n",
    "ax.set_xlabel(str_lbl_x)\n",
    "ax.set_ylabel(str_lbl_y)\n",
    "ax"
   ]
  },
  {
   "cell_type": "code",
   "execution_count": null,
   "id": "8d91025c",
   "metadata": {},
   "outputs": [
    {
     "data": {
      "text/plain": [
       "tensor([-0.3362, -2.1757,  0.9646,  ...,  0.8601, -1.0998,  0.8635])"
      ]
     },
     "execution_count": 27,
     "metadata": {},
     "output_type": "execute_result"
    }
   ],
   "source": []
  },
  {
   "cell_type": "code",
   "execution_count": 29,
   "id": "8f66165e",
   "metadata": {},
   "outputs": [
    {
     "data": {
      "text/plain": [
       "array([<Axes: >, <Axes: >], dtype=object)"
      ]
     },
     "execution_count": 29,
     "metadata": {},
     "output_type": "execute_result"
    },
    {
     "data": {
      "image/png": "[encoded data removed]",
      "text/plain": [
       "<Figure size 640x480 with 2 Axes>"
      ]
     },
     "metadata": {},
     "output_type": "display_data"
    }
   ],
   "source": [
    "str_lbl_x = \"$x_i$\"\n",
    "str_lbl_y = \"y\"\n",
    "fig, ax = plt.subplots(2)\n",
    "ax[0].plot(data.X[:, 0], data.y, 'o')\n",
    "ax[1].plot(data.X[:, 1], data.y, 'o')\n",
    "# ax.set_xlabel(str_lbl_x)\n",
    "# ax.set_ylabel(str_lbl_y)\n",
    "ax"
   ]
  },
  {
   "cell_type": "markdown",
   "id": "4105d024",
   "metadata": {
    "origin_pos": 10
   },
   "source": [
    "[**Each row in `features` consists of a vector in $\\mathbb{R}^2$ and each row in `labels` is a scalar.**] Let's have a look at the first entry.\n"
   ]
  },
  {
   "cell_type": "code",
   "execution_count": 86,
   "id": "43e267cb",
   "metadata": {
    "execution": {
     "iopub.execute_input": "2023-08-18T19:36:15.395708Z",
     "iopub.status.busy": "2023-08-18T19:36:15.394509Z",
     "iopub.status.idle": "2023-08-18T19:36:15.405078Z",
     "shell.execute_reply": "2023-08-18T19:36:15.402629Z"
    },
    "origin_pos": 11,
    "tab": [
     "pytorch"
    ]
   },
   "outputs": [
    {
     "name": "stdout",
     "output_type": "stream",
     "text": [
      "features: tensor([-0.3380, -1.2547]) \n",
      "label: tensor([7.8004])\n"
     ]
    }
   ],
   "source": [
    "print('features:', data.X[0],'\\nlabel:', data.y[0])"
   ]
  },
  {
   "cell_type": "markdown",
   "id": "bf8516d3",
   "metadata": {
    "origin_pos": 12
   },
   "source": [
    "## Reading the Dataset\n",
    "\n",
    "Training machine learning models often requires multiple passes over a dataset, \n",
    "grabbing one minibatch of examples at a time. \n",
    "This data is then used to update the model. \n",
    "To illustrate how this works, we \n",
    "[**implement the `get_dataloader` method,**] \n",
    "registering it in the `SyntheticRegressionData` class via `add_to_class` (introduced in :numref:`oo-design-utilities`).\n",
    "It (**takes a batch size, a matrix of features,\n",
    "and a vector of labels, and generates minibatches of size `batch_size`.**)\n",
    "As such, each minibatch consists of a tuple of features and labels. \n",
    "Note that we need to be mindful of whether we're in training or validation mode: \n",
    "in the former, we will want to read the data in random order, \n",
    "whereas for the latter, being able to read data in a pre-defined order \n",
    "may be important for debugging purposes.\n"
   ]
  },
  {
   "cell_type": "code",
   "execution_count": 88,
   "id": "1686e6b2",
   "metadata": {
    "execution": {
     "iopub.execute_input": "2023-08-18T19:36:15.409740Z",
     "iopub.status.busy": "2023-08-18T19:36:15.408327Z",
     "iopub.status.idle": "2023-08-18T19:36:15.417911Z",
     "shell.execute_reply": "2023-08-18T19:36:15.416944Z"
    },
    "origin_pos": 13,
    "tab": [
     "pytorch"
    ]
   },
   "outputs": [],
   "source": [
    "@d2l.add_to_class(SyntheticRegressionData)\n",
    "def get_dataloader(self, train):\n",
    "    if train:\n",
    "        indices = list(range(0, self.num_train))\n",
    "        # The examples are read in random order\n",
    "        random.shuffle(indices)\n",
    "    else:\n",
    "        indices = list(range(self.num_train, self.num_train+self.num_val))\n",
    "    for i in range(0, len(indices), self.batch_size):\n",
    "        batch_indices = torch.tensor(indices[i: i+self.batch_size])\n",
    "        yield self.X[batch_indices], self.y[batch_indices]"
   ]
  },
  {
   "cell_type": "code",
   "execution_count": 89,
   "id": "7a5fbb4a",
   "metadata": {},
   "outputs": [
    {
     "data": {
      "text/plain": [
       "(tensor([[-0.3380, -1.2547],\n",
       "         [ 1.1306,  0.0016],\n",
       "         [ 0.1413,  0.8602],\n",
       "         [-1.0756,  0.4967]]),\n",
       " tensor([[7.8004],\n",
       "         [6.4473],\n",
       "         [1.5544],\n",
       "         [0.3482]]))"
      ]
     },
     "execution_count": 89,
     "metadata": {},
     "output_type": "execute_result"
    }
   ],
   "source": [
    "data.X[:8]\n",
    "a = list(range(0, 4))\n",
    "random.shuffle(a)\n",
    "data.X[a], data.y[a]"
   ]
  },
  {
   "cell_type": "markdown",
   "id": "2437653f",
   "metadata": {
    "origin_pos": 14
   },
   "source": [
    "To build some intuition, let's inspect the first minibatch of\n",
    "data. Each minibatch of features provides us with both its size and the dimensionality of input features.\n",
    "Likewise, our minibatch of labels will have a matching shape given by `batch_size`.\n"
   ]
  },
  {
   "cell_type": "code",
   "execution_count": 90,
   "id": "d5af1472",
   "metadata": {
    "execution": {
     "iopub.execute_input": "2023-08-18T19:36:15.424253Z",
     "iopub.status.busy": "2023-08-18T19:36:15.423639Z",
     "iopub.status.idle": "2023-08-18T19:36:15.430119Z",
     "shell.execute_reply": "2023-08-18T19:36:15.429099Z"
    },
    "origin_pos": 15,
    "tab": [
     "pytorch"
    ]
   },
   "outputs": [
    {
     "name": "stdout",
     "output_type": "stream",
     "text": [
      "X shape: torch.Size([32, 2]) \n",
      "y shape: torch.Size([32, 1])\n"
     ]
    }
   ],
   "source": [
    "X, y = next(iter(data.train_dataloader()))\n",
    "print('X shape:', X.shape, '\\ny shape:', y.shape)"
   ]
  },
  {
   "cell_type": "markdown",
   "id": "c485f93e",
   "metadata": {
    "origin_pos": 16
   },
   "source": [
    "While seemingly innocuous, the invocation \n",
    "of `iter(data.train_dataloader())` \n",
    "illustrates the power of Python's object-oriented design. \n",
    "Note that we added a method to the `SyntheticRegressionData` class\n",
    "*after* creating the `data` object. \n",
    "Nonetheless, the object benefits from \n",
    "the *ex post facto* addition of functionality to the class.\n",
    "\n",
    "Throughout the iteration we obtain distinct minibatches\n",
    "until the entire dataset has been exhausted (try this).\n",
    "While the iteration implemented above is good for didactic purposes,\n",
    "it is inefficient in ways that might get us into trouble with real problems.\n",
    "For example, it requires that we load all the data in memory\n",
    "and that we perform lots of random memory access.\n",
    "The built-in iterators implemented in a deep learning framework\n",
    "are considerably more efficient and they can deal\n",
    "with sources such as data stored in files, \n",
    "data received via a stream, \n",
    "and data generated or processed on the fly. \n",
    "Next let's try to implement the same method using built-in iterators.\n",
    "\n",
    "## Concise Implementation of the Data Loader\n",
    "\n",
    "Rather than writing our own iterator,\n",
    "we can [**call the existing API in a framework to load data.**]\n",
    "As before, we need a dataset with features `X` and labels `y`. \n",
    "Beyond that, we set `batch_size` in the built-in data loader \n",
    "and let it take care of shuffling examples  efficiently.\n"
   ]
  },
  {
   "cell_type": "code",
   "execution_count": 91,
   "id": "d5ae674e",
   "metadata": {
    "execution": {
     "iopub.execute_input": "2023-08-18T19:36:15.434272Z",
     "iopub.status.busy": "2023-08-18T19:36:15.433429Z",
     "iopub.status.idle": "2023-08-18T19:36:15.441792Z",
     "shell.execute_reply": "2023-08-18T19:36:15.439267Z"
    },
    "origin_pos": 18,
    "tab": [
     "pytorch"
    ]
   },
   "outputs": [],
   "source": [
    "@d2l.add_to_class(d2l.DataModule)  #@save\n",
    "def get_tensorloader(self, tensors, train, indices=slice(0, None)):\n",
    "    tensors = tuple(a[indices] for a in tensors)\n",
    "    dataset = torch.utils.data.TensorDataset(*tensors)\n",
    "    return torch.utils.data.DataLoader(dataset, self.batch_size,\n",
    "                                       shuffle=train)"
   ]
  },
  {
   "cell_type": "code",
   "execution_count": 92,
   "id": "b7503a4c",
   "metadata": {},
   "outputs": [],
   "source": [
    "# d2l.DataModule?"
   ]
  },
  {
   "cell_type": "code",
   "execution_count": 96,
   "id": "617242ed",
   "metadata": {
    "execution": {
     "iopub.execute_input": "2023-08-18T19:36:15.448335Z",
     "iopub.status.busy": "2023-08-18T19:36:15.447832Z",
     "iopub.status.idle": "2023-08-18T19:36:15.457888Z",
     "shell.execute_reply": "2023-08-18T19:36:15.456920Z"
    },
    "origin_pos": 19,
    "tab": [
     "pytorch"
    ]
   },
   "outputs": [],
   "source": [
    "@d2l.add_to_class(SyntheticRegressionData)  #@save\n",
    "def get_dataloader(self, train):\n",
    "    i = slice(0, self.num_train) if train else slice(self.num_train, None)\n",
    "    return self.get_tensorloader((self.X, self.y), train, i)"
   ]
  },
  {
   "cell_type": "markdown",
   "id": "9b36d404",
   "metadata": {
    "origin_pos": 20
   },
   "source": [
    "The new data loader behaves just like the previous one, except that it is more efficient and has some added functionality.\n"
   ]
  },
  {
   "cell_type": "code",
   "execution_count": 97,
   "id": "2f5d57c3",
   "metadata": {
    "attributes": {
     "classes": [],
     "id": "",
     "n": "4"
    },
    "execution": {
     "iopub.execute_input": "2023-08-18T19:36:15.464003Z",
     "iopub.status.busy": "2023-08-18T19:36:15.462740Z",
     "iopub.status.idle": "2023-08-18T19:36:15.474793Z",
     "shell.execute_reply": "2023-08-18T19:36:15.473623Z"
    },
    "origin_pos": 21,
    "tab": [
     "pytorch"
    ]
   },
   "outputs": [
    {
     "name": "stdout",
     "output_type": "stream",
     "text": [
      "X shape: torch.Size([32, 2]) \n",
      "y shape: torch.Size([32, 1])\n"
     ]
    }
   ],
   "source": [
    "X, y = next(iter(data.train_dataloader()))\n",
    "print('X shape:', X.shape, '\\ny shape:', y.shape)"
   ]
  },
  {
   "cell_type": "markdown",
   "id": "4e8e09f0",
   "metadata": {
    "origin_pos": 22
   },
   "source": [
    "For instance, the data loader provided by the framework API \n",
    "supports the built-in `__len__` method, \n",
    "so we can query its length, \n",
    "i.e., the number of batches.\n"
   ]
  },
  {
   "cell_type": "code",
   "execution_count": 98,
   "id": "790cbdfb",
   "metadata": {
    "execution": {
     "iopub.execute_input": "2023-08-18T19:36:15.479797Z",
     "iopub.status.busy": "2023-08-18T19:36:15.478884Z",
     "iopub.status.idle": "2023-08-18T19:36:15.489245Z",
     "shell.execute_reply": "2023-08-18T19:36:15.488320Z"
    },
    "origin_pos": 23,
    "tab": [
     "pytorch"
    ]
   },
   "outputs": [
    {
     "data": {
      "text/plain": [
       "32"
      ]
     },
     "execution_count": 98,
     "metadata": {},
     "output_type": "execute_result"
    }
   ],
   "source": [
    "len(data.train_dataloader())"
   ]
  },
  {
   "cell_type": "markdown",
   "id": "d5e73e34",
   "metadata": {
    "origin_pos": 24
   },
   "source": [
    "## Summary\n",
    "\n",
    "Data loaders are a convenient way of abstracting out \n",
    "the process of loading and manipulating data. \n",
    "This way the same machine learning *algorithm* \n",
    "is capable of processing many different types and sources of data \n",
    "without the need for modification. \n",
    "One of the nice things about data loaders \n",
    "is that they can be composed. \n",
    "For instance, we might be loading images \n",
    "and then have a postprocessing filter \n",
    "that crops them or modifies them in other ways. \n",
    "As such, data loaders can be used \n",
    "to describe an entire data processing pipeline. \n",
    "\n",
    "As for the model itself, the two-dimensional linear model \n",
    "is about the simplest we might encounter. \n",
    "It lets us test out the accuracy of regression models \n",
    "without worrying about having insufficient amounts of data \n",
    "or an underdetermined system of equations. \n",
    "We will put this to good use in the next section.  \n",
    "\n",
    "\n",
    "## Exercises\n",
    "\n",
    "1. What will happen if the number of examples cannot be divided by the batch size. How would you change this behavior by specifying a different argument by using the framework's API?\n",
    "1. Suppose that we want to generate a huge dataset, where both the size of the parameter vector `w` and the number of examples `num_examples` are large.\n",
    "    1. What happens if we cannot hold all data in memory?\n",
    "    1. How would you shuffle the data if it is held on disk? Your task is to design an *efficient* algorithm that does not require too many random reads or writes. Hint: [pseudorandom permutation generators](https://en.wikipedia.org/wiki/Pseudorandom_permutation) allow you to design a reshuffle without the need to store the permutation table explicitly :cite:`Naor.Reingold.1999`. \n",
    "1. Implement a data generator that produces new data on the fly, every time the iterator is called. \n",
    "1. How would you design a random data generator that generates *the same* data each time it is called?\n"
   ]
  },
  {
   "cell_type": "markdown",
   "id": "3a6d8f2c",
   "metadata": {
    "origin_pos": 26,
    "tab": [
     "pytorch"
    ]
   },
   "source": [
    "[Discussions](https://discuss.d2l.ai/t/6663)\n"
   ]
  }
 ],
 "metadata": {
  "kernelspec": {
   "display_name": "d2l.ai",
   "language": "python",
   "name": "python3"
  },
  "language_info": {
   "codemirror_mode": {
    "name": "ipython",
    "version": 3
   },
   "file_extension": ".py",
   "mimetype": "text/x-python",
   "name": "python",
   "nbconvert_exporter": "python",
   "pygments_lexer": "ipython3",
   "version": "3.10.18"
  },
  "required_libs": []
 },
 "nbformat": 4,
 "nbformat_minor": 5
}
