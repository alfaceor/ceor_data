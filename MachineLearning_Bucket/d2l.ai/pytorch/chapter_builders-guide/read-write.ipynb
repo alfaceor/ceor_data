{
 "cells": [
  {
   "cell_type": "markdown",
   "id": "8b4cadb2",
   "metadata": {
    "origin_pos": 1
   },
   "source": [
    "# File I/O\n",
    "\n",
    "So far we have discussed how to process data and how\n",
    "to build, train, and test deep learning models.\n",
    "However, at some point we will hopefully be happy enough\n",
    "with the learned models that we will want\n",
    "to save the results for later use in various contexts\n",
    "(perhaps even to make predictions in deployment).\n",
    "Additionally, when running a long training process,\n",
    "the best practice is to periodically save intermediate results (checkpointing)\n",
    "to ensure that we do not lose several days' worth of computation\n",
    "if we trip over the power cord of our server.\n",
    "Thus it is time to learn how to load and store\n",
    "both individual weight vectors and entire models.\n",
    "This section addresses both issues.\n"
   ]
  },
  {
   "cell_type": "code",
   "execution_count": 1,
   "id": "3dff9f92",
   "metadata": {
    "execution": {
     "iopub.execute_input": "2023-08-18T20:14:02.401475Z",
     "iopub.status.busy": "2023-08-18T20:14:02.401201Z",
     "iopub.status.idle": "2023-08-18T20:14:04.212167Z",
     "shell.execute_reply": "2023-08-18T20:14:04.211057Z"
    },
    "origin_pos": 3,
    "tab": [
     "pytorch"
    ]
   },
   "outputs": [],
   "source": [
    "import torch\n",
    "from torch import nn\n",
    "from torch.nn import functional as F"
   ]
  },
  {
   "cell_type": "markdown",
   "id": "71d2d6c9",
   "metadata": {
    "origin_pos": 6
   },
   "source": [
    "## (**Loading and Saving Tensors**)\n",
    "\n",
    "For individual tensors, we can directly\n",
    "invoke the `load` and `save` functions\n",
    "to read and write them respectively.\n",
    "Both functions require that we supply a name,\n",
    "and `save` requires as input the variable to be saved.\n"
   ]
  },
  {
   "cell_type": "code",
   "execution_count": 3,
   "id": "41c45edb",
   "metadata": {
    "execution": {
     "iopub.execute_input": "2023-08-18T20:14:04.216976Z",
     "iopub.status.busy": "2023-08-18T20:14:04.216107Z",
     "iopub.status.idle": "2023-08-18T20:14:04.247988Z",
     "shell.execute_reply": "2023-08-18T20:14:04.246686Z"
    },
    "origin_pos": 8,
    "tab": [
     "pytorch"
    ]
   },
   "outputs": [
    {
     "data": {
      "text/plain": [
       "tensor([0, 1, 2, 3])"
      ]
     },
     "execution_count": 3,
     "metadata": {},
     "output_type": "execute_result"
    }
   ],
   "source": [
    "x = torch.arange(4)\n",
    "torch.save(x, 'x-file')\n",
    "x"
   ]
  },
  {
   "cell_type": "markdown",
   "id": "e4d4cdfe",
   "metadata": {
    "origin_pos": 11
   },
   "source": [
    "We can now read the data from the stored file back into memory.\n"
   ]
  },
  {
   "cell_type": "code",
   "execution_count": 4,
   "id": "5cb11ed0",
   "metadata": {
    "execution": {
     "iopub.execute_input": "2023-08-18T20:14:04.253634Z",
     "iopub.status.busy": "2023-08-18T20:14:04.253018Z",
     "iopub.status.idle": "2023-08-18T20:14:04.262485Z",
     "shell.execute_reply": "2023-08-18T20:14:04.261617Z"
    },
    "origin_pos": 13,
    "tab": [
     "pytorch"
    ]
   },
   "outputs": [
    {
     "data": {
      "text/plain": [
       "tensor([0, 1, 2, 3])"
      ]
     },
     "execution_count": 4,
     "metadata": {},
     "output_type": "execute_result"
    }
   ],
   "source": [
    "x2 = torch.load('x-file')\n",
    "x2"
   ]
  },
  {
   "cell_type": "markdown",
   "id": "431f40d8",
   "metadata": {
    "origin_pos": 16
   },
   "source": [
    "We can [**store a list of tensors and read them back into memory.**]\n"
   ]
  },
  {
   "cell_type": "code",
   "execution_count": 5,
   "id": "86dba6ad",
   "metadata": {
    "execution": {
     "iopub.execute_input": "2023-08-18T20:14:04.267689Z",
     "iopub.status.busy": "2023-08-18T20:14:04.267013Z",
     "iopub.status.idle": "2023-08-18T20:14:04.275474Z",
     "shell.execute_reply": "2023-08-18T20:14:04.274471Z"
    },
    "origin_pos": 18,
    "tab": [
     "pytorch"
    ]
   },
   "outputs": [
    {
     "data": {
      "text/plain": [
       "(tensor([0, 1, 2, 3]), tensor([0., 0., 0., 0.]))"
      ]
     },
     "execution_count": 5,
     "metadata": {},
     "output_type": "execute_result"
    }
   ],
   "source": [
    "y = torch.zeros(4)\n",
    "torch.save([x, y],'x-files')\n",
    "x2, y2 = torch.load('x-files')\n",
    "(x2, y2)"
   ]
  },
  {
   "cell_type": "markdown",
   "id": "7e03e08f",
   "metadata": {
    "origin_pos": 21
   },
   "source": [
    "We can even [**write and read a dictionary that maps\n",
    "from strings to tensors.**]\n",
    "This is convenient when we want\n",
    "to read or write all the weights in a model.\n"
   ]
  },
  {
   "cell_type": "code",
   "execution_count": 15,
   "id": "1b8f14c8",
   "metadata": {
    "execution": {
     "iopub.execute_input": "2023-08-18T20:14:04.279967Z",
     "iopub.status.busy": "2023-08-18T20:14:04.279484Z",
     "iopub.status.idle": "2023-08-18T20:14:04.286799Z",
     "shell.execute_reply": "2023-08-18T20:14:04.286045Z"
    },
    "origin_pos": 23,
    "tab": [
     "pytorch"
    ]
   },
   "outputs": [
    {
     "data": {
      "text/plain": [
       "{'x': tensor([0, 1, 2, 3]), 'y': tensor([0., 0., 0., 0.])}"
      ]
     },
     "execution_count": 15,
     "metadata": {},
     "output_type": "execute_result"
    }
   ],
   "source": [
    "mydict = {'x': x, 'y': y}\n",
    "torch.save(mydict, 'mydict')\n",
    "mydict2 = torch.load('mydict')\n",
    "mydict2"
   ]
  },
  {
   "cell_type": "code",
   "execution_count": 13,
   "id": "c5208a14",
   "metadata": {},
   "outputs": [
    {
     "data": {
      "text/plain": [
       "array([[[0.6621208 , 0.6881579 ],\n",
       "        [0.31823045, 0.37319767]],\n",
       "\n",
       "       [[0.27871293, 0.56241566],\n",
       "        [0.05610281, 0.4356488 ]]], dtype=float32)"
      ]
     },
     "execution_count": 13,
     "metadata": {},
     "output_type": "execute_result"
    }
   ],
   "source": [
    "import numpy as np\n",
    "np.savetxt('comotxtnumpy.txt', x.numpy())\n",
    "\n",
    "pp = torch.rand(size=(2,2,2))\n",
    "pp.numpy()\n",
    "# np.savetxt('ppnumpy.txt', pp.numpy())\n"
   ]
  },
  {
   "cell_type": "markdown",
   "id": "a1f21d5a",
   "metadata": {
    "origin_pos": 26
   },
   "source": [
    "## [**Loading and Saving Model Parameters**]\n",
    "\n",
    "Saving individual weight vectors (or other tensors) is useful,\n",
    "but it gets very tedious if we want to save\n",
    "(and later load) an entire model.\n",
    "After all, we might have hundreds of\n",
    "parameter groups sprinkled throughout.\n",
    "For this reason the deep learning framework provides built-in functionalities\n",
    "to load and save entire networks.\n",
    "An important detail to note is that this\n",
    "saves model *parameters* and not the entire model.\n",
    "For example, if we have a 3-layer MLP,\n",
    "we need to specify the architecture separately.\n",
    "The reason for this is that the models themselves can contain arbitrary code,\n",
    "hence they cannot be serialized as naturally.\n",
    "Thus, in order to reinstate a model, we need\n",
    "to generate the architecture in code\n",
    "and then load the parameters from disk.\n",
    "(**Let's start with our familiar MLP.**)\n"
   ]
  },
  {
   "cell_type": "code",
   "execution_count": 18,
   "id": "6917c6ad",
   "metadata": {
    "execution": {
     "iopub.execute_input": "2023-08-18T20:14:04.290900Z",
     "iopub.status.busy": "2023-08-18T20:14:04.290420Z",
     "iopub.status.idle": "2023-08-18T20:14:04.301461Z",
     "shell.execute_reply": "2023-08-18T20:14:04.300490Z"
    },
    "origin_pos": 28,
    "tab": [
     "pytorch"
    ]
   },
   "outputs": [],
   "source": [
    "class MLP(nn.Module):\n",
    "    def __init__(self):\n",
    "        super().__init__()\n",
    "        self.hidden = nn.LazyLinear(256)\n",
    "        self.output = nn.LazyLinear(10)\n",
    "\n",
    "    def forward(self, x):\n",
    "        return self.output(F.relu(self.hidden(x)))\n",
    "\n",
    "net = MLP()\n",
    "X = torch.randn(size=(2, 20))\n",
    "Y = net(X)"
   ]
  },
  {
   "cell_type": "code",
   "execution_count": 19,
   "id": "3260479a",
   "metadata": {},
   "outputs": [
    {
     "data": {
      "text/plain": [
       "OrderedDict([('hidden.weight',\n",
       "              tensor([[-0.1567,  0.0420, -0.1314,  ..., -0.1994,  0.1179,  0.0318],\n",
       "                      [-0.1015,  0.1731,  0.2232,  ...,  0.1567,  0.1946, -0.1466],\n",
       "                      [-0.0523,  0.1989, -0.1097,  ...,  0.2090, -0.0789,  0.0531],\n",
       "                      ...,\n",
       "                      [ 0.0680,  0.0329,  0.1696,  ...,  0.0896,  0.0148,  0.1942],\n",
       "                      [ 0.0760, -0.1721, -0.1273,  ...,  0.1425,  0.0643, -0.2060],\n",
       "                      [-0.0346,  0.1174, -0.1435,  ..., -0.1155,  0.0590, -0.1074]])),\n",
       "             ('hidden.bias',\n",
       "              tensor([ 4.5742e-02,  8.9421e-02, -2.2209e-01,  1.0356e-01, -5.3999e-02,\n",
       "                      -2.8820e-02,  1.1388e-01,  1.1602e-01, -1.9682e-01,  7.3428e-02,\n",
       "                      -1.2763e-02, -1.1967e-01, -9.1832e-02, -1.7084e-01,  2.9659e-02,\n",
       "                      -2.2017e-01, -4.9351e-02, -9.3244e-02,  7.5740e-02, -1.7409e-01,\n",
       "                       3.4471e-02, -1.1606e-01,  1.0633e-01, -1.3775e-02, -1.8174e-01,\n",
       "                      -1.1128e-01, -1.6971e-01, -1.9405e-01, -1.9200e-01,  1.0412e-01,\n",
       "                       1.4644e-01,  3.6123e-02,  8.5887e-02, -2.0483e-02, -1.5350e-01,\n",
       "                       1.4502e-01, -2.1759e-02,  1.1346e-01,  1.5000e-01,  7.9079e-02,\n",
       "                      -1.0965e-01,  1.3942e-01,  6.9799e-02, -1.0752e-01, -1.8260e-01,\n",
       "                      -2.2285e-01, -8.6362e-02,  4.8666e-03,  4.2545e-02, -2.8879e-02,\n",
       "                       1.9104e-01,  1.5043e-02,  6.8867e-02,  2.2135e-02,  4.0327e-02,\n",
       "                      -1.2299e-01,  1.5781e-01,  1.1105e-01, -1.5125e-01,  1.8286e-01,\n",
       "                       1.4067e-01,  8.0941e-03, -6.8773e-02, -9.2660e-02,  5.5799e-02,\n",
       "                      -2.1601e-01, -1.6953e-01, -1.4007e-01, -2.7351e-02, -1.2870e-01,\n",
       "                       1.1354e-01, -2.1779e-01,  1.6851e-01, -1.6809e-01,  7.5957e-02,\n",
       "                       1.1123e-01, -1.6279e-02, -1.6654e-01, -1.5841e-01,  8.8599e-02,\n",
       "                       1.2803e-01, -7.8781e-02,  4.0497e-02,  5.5672e-02, -1.6548e-01,\n",
       "                       5.1829e-02, -1.3413e-01, -1.0692e-01,  7.2450e-02, -2.0582e-01,\n",
       "                       1.5273e-01,  6.9225e-02, -9.6624e-03, -1.9514e-01,  1.9892e-01,\n",
       "                      -5.1054e-02, -2.8100e-02,  2.1345e-01,  1.7460e-05,  1.5140e-01,\n",
       "                       5.6085e-02,  2.1032e-01, -8.2229e-02, -1.8635e-01,  1.2369e-01,\n",
       "                       1.6767e-01, -1.4554e-01,  1.5673e-01, -1.6853e-02, -2.0380e-01,\n",
       "                       1.3776e-01, -9.1655e-02, -7.3172e-02,  1.9151e-01, -4.4048e-02,\n",
       "                       1.8952e-01,  1.5444e-02,  1.7546e-01, -1.2504e-01,  8.6947e-02,\n",
       "                       2.9093e-02,  1.3426e-02,  1.1352e-02, -6.4276e-02,  1.7681e-02,\n",
       "                      -2.6271e-02,  1.8903e-01,  1.2630e-01,  1.9264e-01, -1.8846e-01,\n",
       "                       2.7798e-02,  1.9546e-01, -4.6188e-03, -2.1154e-01, -2.2306e-01,\n",
       "                       9.8922e-02,  1.8604e-01,  1.6527e-01, -1.3201e-01, -7.5190e-02,\n",
       "                       1.6005e-01,  1.4564e-01, -6.1383e-02,  3.5888e-02,  3.2595e-02,\n",
       "                      -3.7299e-02, -1.6805e-01,  8.9524e-02,  4.8781e-02,  2.1612e-01,\n",
       "                      -2.5292e-02, -4.2763e-02, -1.4747e-01,  6.4859e-02,  6.3971e-02,\n",
       "                      -1.1629e-01, -5.5668e-02,  1.0322e-01,  7.3284e-02, -1.5868e-01,\n",
       "                       7.3805e-02,  9.6323e-02,  1.6165e-01, -1.9586e-01,  1.0656e-01,\n",
       "                      -1.4025e-01,  5.0657e-02, -4.3004e-02, -3.9606e-02,  1.0330e-01,\n",
       "                       1.5713e-01, -2.1263e-01, -7.3016e-02, -1.1144e-01,  3.3247e-02,\n",
       "                      -1.8491e-01, -2.8313e-02, -1.9994e-02,  1.6564e-01,  5.0316e-02,\n",
       "                      -2.0464e-01,  5.8295e-02,  5.5941e-02,  1.7013e-01, -4.0065e-02,\n",
       "                      -5.6433e-02, -2.1635e-01,  2.0389e-01,  1.2493e-01, -1.2771e-01,\n",
       "                       8.3281e-02, -1.0176e-01, -4.3309e-03,  1.2847e-02,  4.7700e-02,\n",
       "                      -1.9710e-01, -1.6722e-01,  1.6413e-01, -8.2851e-02, -4.7584e-03,\n",
       "                       7.2702e-02,  1.2127e-01, -1.1618e-01,  5.0698e-02,  1.9303e-01,\n",
       "                       8.1270e-02, -7.6415e-03, -1.7301e-01, -2.2452e-02, -5.6854e-02,\n",
       "                       8.4604e-02,  6.9982e-02,  1.7694e-01, -1.3218e-01, -1.3519e-01,\n",
       "                       2.0258e-01, -7.4654e-02,  2.2325e-01, -1.7929e-01, -1.0497e-01,\n",
       "                      -1.7814e-01,  7.2074e-03, -1.1682e-01,  1.4405e-01,  1.3885e-02,\n",
       "                      -2.2196e-01, -1.0776e-01,  1.0309e-01, -2.0517e-01, -3.5310e-02,\n",
       "                       1.1395e-01,  9.6916e-02, -8.9108e-02,  3.2212e-02,  1.6361e-01,\n",
       "                       8.3183e-02,  8.2341e-02,  9.2138e-03, -4.2076e-02,  5.6282e-02,\n",
       "                      -1.7899e-01,  1.3478e-01,  5.4844e-02,  1.0650e-01, -4.7187e-02,\n",
       "                       1.1854e-01, -2.7026e-02,  1.4406e-01,  1.3388e-01,  1.3950e-01,\n",
       "                      -1.7486e-01, -6.5851e-02,  8.4090e-02,  3.9927e-02,  3.0337e-02,\n",
       "                       2.0367e-01])),\n",
       "             ('output.weight',\n",
       "              tensor([[-0.0623, -0.0526, -0.0351,  ..., -0.0393, -0.0226, -0.0028],\n",
       "                      [-0.0281,  0.0576, -0.0287,  ..., -0.0568,  0.0178, -0.0496],\n",
       "                      [-0.0117, -0.0138, -0.0600,  ...,  0.0444, -0.0021,  0.0059],\n",
       "                      ...,\n",
       "                      [-0.0579,  0.0169, -0.0221,  ..., -0.0470, -0.0172,  0.0444],\n",
       "                      [ 0.0456, -0.0468, -0.0320,  ..., -0.0022, -0.0122, -0.0193],\n",
       "                      [-0.0481,  0.0334,  0.0111,  ..., -0.0495,  0.0498, -0.0110]])),\n",
       "             ('output.bias',\n",
       "              tensor([ 0.0018, -0.0195,  0.0378, -0.0510,  0.0239,  0.0044, -0.0313,  0.0038,\n",
       "                       0.0349,  0.0222]))])"
      ]
     },
     "execution_count": 19,
     "metadata": {},
     "output_type": "execute_result"
    }
   ],
   "source": [
    "net.state_dict()"
   ]
  },
  {
   "cell_type": "markdown",
   "id": "45d0c48e",
   "metadata": {
    "origin_pos": 31
   },
   "source": [
    "Next, we [**store the parameters of the model as a file**] with the name \"mlp.params\".\n"
   ]
  },
  {
   "cell_type": "code",
   "execution_count": 20,
   "id": "88dfe184",
   "metadata": {
    "execution": {
     "iopub.execute_input": "2023-08-18T20:14:04.304908Z",
     "iopub.status.busy": "2023-08-18T20:14:04.304617Z",
     "iopub.status.idle": "2023-08-18T20:14:04.309701Z",
     "shell.execute_reply": "2023-08-18T20:14:04.308927Z"
    },
    "origin_pos": 33,
    "tab": [
     "pytorch"
    ]
   },
   "outputs": [],
   "source": [
    "torch.save(net.state_dict(), 'mlp.params')"
   ]
  },
  {
   "cell_type": "markdown",
   "id": "3ddcdcbd",
   "metadata": {
    "origin_pos": 36
   },
   "source": [
    "To recover the model, we instantiate a clone\n",
    "of the original MLP model.\n",
    "Instead of randomly initializing the model parameters,\n",
    "we [**read the parameters stored in the file directly**].\n"
   ]
  },
  {
   "cell_type": "code",
   "execution_count": 21,
   "id": "0a8e9c03",
   "metadata": {
    "execution": {
     "iopub.execute_input": "2023-08-18T20:14:04.312721Z",
     "iopub.status.busy": "2023-08-18T20:14:04.312444Z",
     "iopub.status.idle": "2023-08-18T20:14:04.320044Z",
     "shell.execute_reply": "2023-08-18T20:14:04.319202Z"
    },
    "origin_pos": 38,
    "tab": [
     "pytorch"
    ]
   },
   "outputs": [
    {
     "data": {
      "text/plain": [
       "MLP(\n",
       "  (hidden): LazyLinear(in_features=0, out_features=256, bias=True)\n",
       "  (output): LazyLinear(in_features=0, out_features=10, bias=True)\n",
       ")"
      ]
     },
     "execution_count": 21,
     "metadata": {},
     "output_type": "execute_result"
    }
   ],
   "source": [
    "clone = MLP()\n",
    "clone.load_state_dict(torch.load('mlp.params'))\n",
    "clone.eval()"
   ]
  },
  {
   "cell_type": "markdown",
   "id": "4b209774",
   "metadata": {
    "origin_pos": 41
   },
   "source": [
    "Since both instances have the same model parameters,\n",
    "the computational result of the same input `X` should be the same.\n",
    "Let's verify this.\n"
   ]
  },
  {
   "cell_type": "code",
   "execution_count": 22,
   "id": "d65ae251",
   "metadata": {
    "execution": {
     "iopub.execute_input": "2023-08-18T20:14:04.323094Z",
     "iopub.status.busy": "2023-08-18T20:14:04.322816Z",
     "iopub.status.idle": "2023-08-18T20:14:04.330451Z",
     "shell.execute_reply": "2023-08-18T20:14:04.329304Z"
    },
    "origin_pos": 42,
    "tab": [
     "pytorch"
    ]
   },
   "outputs": [
    {
     "data": {
      "text/plain": [
       "tensor([[True, True, True, True, True, True, True, True, True, True],\n",
       "        [True, True, True, True, True, True, True, True, True, True]])"
      ]
     },
     "execution_count": 22,
     "metadata": {},
     "output_type": "execute_result"
    }
   ],
   "source": [
    "Y_clone = clone(X)\n",
    "Y_clone == Y"
   ]
  },
  {
   "cell_type": "code",
   "execution_count": 23,
   "id": "802ef1ee",
   "metadata": {},
   "outputs": [],
   "source": [
    "# What about nn.Sequential?"
   ]
  },
  {
   "cell_type": "markdown",
   "id": "109a1a9f",
   "metadata": {
    "origin_pos": 44
   },
   "source": [
    "## Summary\n",
    "\n",
    "The `save` and `load` functions can be used to perform file I/O for tensor objects.\n",
    "We can save and load the entire sets of parameters for a network via a parameter dictionary.\n",
    "Saving the architecture has to be done in code rather than in parameters.\n",
    "\n",
    "## Exercises\n",
    "\n",
    "1. Even if there is no need to deploy trained models to a different device, what are the practical benefits of storing model parameters?\n",
    "1. Assume that we want to reuse only parts of a network to be incorporated into a network having a different architecture. How would you go about using, say the first two layers from a previous network in a new network?\n",
    "1. How would you go about saving the network architecture and parameters? What restrictions would you impose on the architecture?\n"
   ]
  },
  {
   "cell_type": "markdown",
   "id": "815c6198",
   "metadata": {
    "origin_pos": 46,
    "tab": [
     "pytorch"
    ]
   },
   "source": [
    "[Discussions](https://discuss.d2l.ai/t/61)\n"
   ]
  }
 ],
 "metadata": {
  "kernelspec": {
   "display_name": "d2l.ai",
   "language": "python",
   "name": "python3"
  },
  "language_info": {
   "codemirror_mode": {
    "name": "ipython",
    "version": 3
   },
   "file_extension": ".py",
   "mimetype": "text/x-python",
   "name": "python",
   "nbconvert_exporter": "python",
   "pygments_lexer": "ipython3",
   "version": "3.10.18"
  },
  "required_libs": []
 },
 "nbformat": 4,
 "nbformat_minor": 5
}
